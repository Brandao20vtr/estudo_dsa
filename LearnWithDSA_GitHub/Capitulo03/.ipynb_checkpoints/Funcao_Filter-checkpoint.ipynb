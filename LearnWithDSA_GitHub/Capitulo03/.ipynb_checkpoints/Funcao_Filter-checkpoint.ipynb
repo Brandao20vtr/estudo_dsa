{
 "cells": [
  {
   "cell_type": "markdown",
   "id": "77cabf40",
   "metadata": {},
   "source": [
    "# Filter\n",
    "Recebe 2 argumentos.\n",
    "- 1° Uma função\n",
    "- 2° Uma sequência\n",
    "\n",
    "Oferece uma maneira conveniente para filtrar todos os elementos de uma sequência para os quais a função retorne **True.**\n",
    "\n",
    "A função passada como parâmetro para *filter()* deve retornar um valor booleano **_True/False._**\n",
    "\n",
    "A função será aplicada a todos os valores de uma sequência e os valores serão retornados se retornarem **_True_** para a função."
   ]
  },
  {
   "cell_type": "code",
   "execution_count": 2,
   "id": "9940ca30",
   "metadata": {},
   "outputs": [],
   "source": [
    "# Criando uma função para retornar se o némero for PAR ou ÍMPAR\n",
    "def verificaPar(num):\n",
    "    if num % 2 == 0:\n",
    "        return True\n",
    "    else:\n",
    "        return False"
   ]
  },
  {
   "cell_type": "code",
   "execution_count": 3,
   "id": "f72d82aa",
   "metadata": {},
   "outputs": [
    {
     "data": {
      "text/plain": [
       "False"
      ]
     },
     "execution_count": 3,
     "metadata": {},
     "output_type": "execute_result"
    }
   ],
   "source": [
    "# Verificando o valor\n",
    "verificaPar(35)"
   ]
  },
  {
   "cell_type": "code",
   "execution_count": 4,
   "id": "ddee9ab5",
   "metadata": {},
   "outputs": [],
   "source": [
    "lista = [1, 2, 3, 4, 5, 6, 7, 8, 9, 10, 11, 12, 13, 14, 15, 16, 17, 18, 19, 20]"
   ]
  },
  {
   "cell_type": "code",
   "execution_count": 5,
   "id": "f7785961",
   "metadata": {},
   "outputs": [
    {
     "data": {
      "text/plain": [
       "[1, 2, 3, 4, 5, 6, 7, 8, 9, 10, 11, 12, 13, 14, 15, 16, 17, 18, 19, 20]"
      ]
     },
     "execution_count": 5,
     "metadata": {},
     "output_type": "execute_result"
    }
   ],
   "source": [
    "lista"
   ]
  },
  {
   "cell_type": "code",
   "execution_count": 6,
   "id": "8e4350a7",
   "metadata": {},
   "outputs": [
    {
     "data": {
      "text/plain": [
       "<filter at 0x1ee2a19d400>"
      ]
     },
     "execution_count": 6,
     "metadata": {},
     "output_type": "execute_result"
    }
   ],
   "source": [
    "# Vai percorrer a lista retornando somente os valores que forem pares\n",
    "filter(verificaPar, lista)\n",
    "\n",
    "# Igual a função MAP. Tem que colocar em uma 'list'"
   ]
  },
  {
   "cell_type": "code",
   "execution_count": 7,
   "id": "9d1e18ee",
   "metadata": {},
   "outputs": [
    {
     "data": {
      "text/plain": [
       "[2, 4, 6, 8, 10, 12, 14, 16, 18, 20]"
      ]
     },
     "execution_count": 7,
     "metadata": {},
     "output_type": "execute_result"
    }
   ],
   "source": [
    "# Retornou só os valores True(PARES)\n",
    "list(filter(verificaPar, lista))"
   ]
  },
  {
   "cell_type": "code",
   "execution_count": 8,
   "id": "9d2fef1e",
   "metadata": {},
   "outputs": [
    {
     "data": {
      "text/plain": [
       "[2, 4, 6, 8, 10, 12, 14, 16, 18, 20]"
      ]
     },
     "execution_count": 8,
     "metadata": {},
     "output_type": "execute_result"
    }
   ],
   "source": [
    "# Filter com lambda\n",
    "list(filter(lambda x: x % 2 ==0, lista))"
   ]
  }
 ],
 "metadata": {
  "kernelspec": {
   "display_name": "Python 3",
   "language": "python",
   "name": "python3"
  },
  "language_info": {
   "codemirror_mode": {
    "name": "ipython",
    "version": 3
   },
   "file_extension": ".py",
   "mimetype": "text/x-python",
   "name": "python",
   "nbconvert_exporter": "python",
   "pygments_lexer": "ipython3",
   "version": "3.8.8"
  }
 },
 "nbformat": 4,
 "nbformat_minor": 5
}
