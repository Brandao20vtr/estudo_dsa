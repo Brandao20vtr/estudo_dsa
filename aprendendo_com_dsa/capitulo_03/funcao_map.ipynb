{
 "cells": [
  {
   "cell_type": "markdown",
   "id": "483a160c",
   "metadata": {},
   "source": [
    "# MAP\n",
    "É uma função que recebe dois argumentos:\n",
    "- Uma função\n",
    "- Uma sequêcia\n",
    "\n",
    "**Exemplo:** *map(função, sequência)*"
   ]
  },
  {
   "cell_type": "code",
   "execution_count": 6,
   "id": "17e4d437",
   "metadata": {},
   "outputs": [],
   "source": [
    "# Criando as funções\n",
    "\n",
    "# Essa função irá receber uma temperatura como parâmetro e retorna em Fahrenheit\n",
    "def fahrenheit(T):\n",
    "    return ((float(9)/5) * T + 32)\n",
    "\n",
    "# Essa função irá converter para Celsius\n",
    "def celsius(T):\n",
    "    return (float(5)/9 * (T - 32))"
   ]
  },
  {
   "cell_type": "code",
   "execution_count": 7,
   "id": "307714bb",
   "metadata": {},
   "outputs": [],
   "source": [
    "# Lista de temperaturas\n",
    "temp = [15, 30, 50, 5, 32.5]"
   ]
  },
  {
   "cell_type": "code",
   "execution_count": 3,
   "id": "438ba656",
   "metadata": {},
   "outputs": [
    {
     "data": {
      "text/plain": [
       "<map at 0x22efd02e580>"
      ]
     },
     "execution_count": 3,
     "metadata": {},
     "output_type": "execute_result"
    }
   ],
   "source": [
    "# Agora colocando na função MAP\n",
    "# Vai aplicar a função 'fairenheit' a cada valor da lista\n",
    "map(fahrenheit, temp)   # função + sequência de valores(lista)\n",
    "\n",
    "# Só retornou números e letras porque o python só retorna o operador\n",
    "# Para retornar o resultado temos que adicionar em uma lista"
   ]
  },
  {
   "cell_type": "code",
   "execution_count": 4,
   "id": "c6780e29",
   "metadata": {},
   "outputs": [
    {
     "data": {
      "text/plain": [
       "[59.0, 86.0, 122.0, 41.0, 90.5]"
      ]
     },
     "execution_count": 4,
     "metadata": {},
     "output_type": "execute_result"
    }
   ],
   "source": [
    "# Colocando 'map' em uma lista\n",
    "list(map(fahrenheit, temp))"
   ]
  },
  {
   "cell_type": "code",
   "execution_count": 5,
   "id": "79ac0c53",
   "metadata": {},
   "outputs": [
    {
     "name": "stdout",
     "output_type": "stream",
     "text": [
      "59.0\n",
      "86.0\n",
      "122.0\n",
      "41.0\n",
      "90.5\n"
     ]
    }
   ],
   "source": [
    "# Nesse caso podemos imprimir os valores sem precisar \n",
    "# colocar em uma lista usando o loop 'for'\n",
    "for t in map(fahrenheit, temp):\n",
    "    print(t)"
   ]
  },
  {
   "cell_type": "code",
   "execution_count": 8,
   "id": "c79cac53",
   "metadata": {},
   "outputs": [
    {
     "data": {
      "text/plain": [
       "<map at 0x22efd02e220>"
      ]
     },
     "execution_count": 8,
     "metadata": {},
     "output_type": "execute_result"
    }
   ],
   "source": [
    "# Agora convertendo para Celsius\n",
    "map(celsius, temp)"
   ]
  },
  {
   "cell_type": "code",
   "execution_count": 9,
   "id": "d4457616",
   "metadata": {},
   "outputs": [
    {
     "data": {
      "text/plain": [
       "[-9.444444444444445, -1.1111111111111112, 10.0, -15.0, 0.2777777777777778]"
      ]
     },
     "execution_count": 9,
     "metadata": {},
     "output_type": "execute_result"
    }
   ],
   "source": [
    "list(map(celsius, temp))"
   ]
  },
  {
   "cell_type": "markdown",
   "id": "d35fcaf3",
   "metadata": {},
   "source": [
    "# Usando LAMBDA"
   ]
  },
  {
   "cell_type": "code",
   "execution_count": 11,
   "id": "106dbf81",
   "metadata": {},
   "outputs": [
    {
     "data": {
      "text/plain": [
       "<map at 0x22efd01bf10>"
      ]
     },
     "execution_count": 11,
     "metadata": {},
     "output_type": "execute_result"
    }
   ],
   "source": [
    "map(lambda x: (5.0/9) * (x - 32), temp)"
   ]
  },
  {
   "cell_type": "code",
   "execution_count": 12,
   "id": "e9495e34",
   "metadata": {},
   "outputs": [
    {
     "data": {
      "text/plain": [
       "[-9.444444444444445, -1.1111111111111112, 10.0, -15.0, 0.2777777777777778]"
      ]
     },
     "execution_count": 12,
     "metadata": {},
     "output_type": "execute_result"
    }
   ],
   "source": [
    "list(map(lambda x: (5.0/9) * (x -32), temp))"
   ]
  },
  {
   "cell_type": "code",
   "execution_count": 13,
   "id": "b67a5427",
   "metadata": {},
   "outputs": [],
   "source": [
    "# Somando os elementos de cada uma dadas listas\n",
    "a = [32, 5, 11]\n",
    "b = [2, 33, 9]"
   ]
  },
  {
   "cell_type": "code",
   "execution_count": 15,
   "id": "e596c2bc",
   "metadata": {},
   "outputs": [
    {
     "data": {
      "text/plain": [
       "[34, 38, 20]"
      ]
     },
     "execution_count": 15,
     "metadata": {},
     "output_type": "execute_result"
    }
   ],
   "source": [
    "# Mostrando o resultado\n",
    "list(map(lambda x, y: x+y, a, b))"
   ]
  },
  {
   "cell_type": "code",
   "execution_count": 16,
   "id": "43dbb199",
   "metadata": {},
   "outputs": [],
   "source": [
    "# Criando nova lista para somar as três\n",
    "c = [10, 25, 100]"
   ]
  },
  {
   "cell_type": "code",
   "execution_count": 17,
   "id": "521fc462",
   "metadata": {},
   "outputs": [
    {
     "data": {
      "text/plain": [
       "[44, 63, 120]"
      ]
     },
     "execution_count": 17,
     "metadata": {},
     "output_type": "execute_result"
    }
   ],
   "source": [
    "list(map(lambda x, y, z: x+y+z, a, b, c))"
   ]
  },
  {
   "cell_type": "code",
   "execution_count": null,
   "id": "bf8a79f9",
   "metadata": {},
   "outputs": [],
   "source": []
  },
  {
   "cell_type": "code",
   "execution_count": 31,
   "id": "33d35d48",
   "metadata": {},
   "outputs": [],
   "source": [
    "def hello(myName, age):\n",
    "    print('Hello', myName, '\\nYour age is:', age)"
   ]
  },
  {
   "cell_type": "code",
   "execution_count": 32,
   "id": "2fe13802",
   "metadata": {},
   "outputs": [
    {
     "name": "stdout",
     "output_type": "stream",
     "text": [
      "Hello Vitor \n",
      "Your age is: 23\n"
     ]
    }
   ],
   "source": [
    "hello('Henrique', 23)"
   ]
  },
  {
   "cell_type": "code",
   "execution_count": null,
   "id": "7e4e985b",
   "metadata": {},
   "outputs": [],
   "source": []
  },
  {
   "cell_type": "code",
   "execution_count": 33,
   "id": "a525afc5",
   "metadata": {},
   "outputs": [],
   "source": [
    "def pagamento(qtdHoras, valorHora):\n",
    "    horas = float(qtdHoras)   # Variável hora receberá a quantidade de horas trabalhadas\n",
    "    taxa = float(valorHora)   # Variável receberá valor trabalhado por hora\n",
    "    \n",
    "    if horas <= 40:   # Se horas for menor e igual a 40\n",
    "        salario = horas * taxa   # Salário será horas multiplicado pela taxa\n",
    "    \n",
    "    else:   # Se não\n",
    "        horaExcd = horas - 40   # Horas excedidas será igual a hora menos 40\n",
    "        salario = 40 * taxa + (horaExcd * (1.5 * taxa))   # E salário será igual 40 * taxa + (horaExcd * (1.5 * taxa))\n",
    "        \n",
    "    return salario   # Retorne o salário"
   ]
  },
  {
   "cell_type": "code",
   "execution_count": 39,
   "id": "93d72371",
   "metadata": {},
   "outputs": [
    {
     "name": "stdout",
     "output_type": "stream",
     "text": [
      "Digite as horas trabalhadas: 62\n",
      "Digite o valor da hora trabalhada: R$ 200\n",
      "O valor do seu rendimento é R$ 14600.00\n"
     ]
    }
   ],
   "source": [
    "# Criando o input para receber os valores\n",
    "strHoras = input('Digite as horas trabalhadas: ')\n",
    "strTaxa = input('Digite o valor da hora trabalhada: R$ ')\n",
    "\n",
    "totalSalario = pagamento(strHoras, strTaxa)\n",
    "\n",
    "print('O valor do seu rendimento é R$ %.2f'%totalSalario)"
   ]
  },
  {
   "cell_type": "code",
   "execution_count": null,
   "id": "882e5c1c",
   "metadata": {},
   "outputs": [],
   "source": []
  }
 ],
 "metadata": {
  "kernelspec": {
   "display_name": "Python 3",
   "language": "python",
   "name": "python3"
  },
  "language_info": {
   "codemirror_mode": {
    "name": "ipython",
    "version": 3
   },
   "file_extension": ".py",
   "mimetype": "text/x-python",
   "name": "python",
   "nbconvert_exporter": "python",
   "pygments_lexer": "ipython3",
   "version": "3.8.8"
  }
 },
 "nbformat": 4,
 "nbformat_minor": 5
}
