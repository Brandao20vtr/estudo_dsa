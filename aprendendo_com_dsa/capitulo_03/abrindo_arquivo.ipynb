{
 "cells": [
  {
   "cell_type": "markdown",
   "id": "1e6405cd",
   "metadata": {},
   "source": [
    "# Abrindo arquivos com Python para leitura"
   ]
  },
  {
   "cell_type": "code",
   "execution_count": null,
   "id": "91535da3",
   "metadata": {},
   "outputs": [],
   "source": [
    "# arquivo/ --> para dizer que esse arquivo está dentro da pasta ARQUIVO\n",
    "arq1 = open('arquivos/arquivo1.txt', 'r')   # 'r' --> abre no modo leitura"
   ]
  },
  {
   "cell_type": "code",
   "execution_count": null,
   "id": "15309ba5",
   "metadata": {},
   "outputs": [],
   "source": [
    "# Fazedo a leitura do arquivo que foi importado\n",
    "print('Está escrito: ', arq1.read())\n",
    "\n",
    "# Contando quantos caracteres tem nesse arquivo\n",
    "# .tell()\n",
    "print('Tem ', arq1.tell(), ' caracteres!')"
   ]
  },
  {
   "cell_type": "code",
   "execution_count": null,
   "id": "b0d2037d",
   "metadata": {},
   "outputs": [],
   "source": [
    "# Retornar á um ponto do arquivo\n",
    "# (0, 0) --> Volta ao início do arquivo\n",
    "print(arq1.seek(0, 0))\n",
    "\n",
    "# Ler os primeiros 10 caracteres\n",
    "print(arq1.read(10))"
   ]
  },
  {
   "cell_type": "markdown",
   "id": "266b5c33",
   "metadata": {},
   "source": [
    "# GRAVANDO ARQUIVOS"
   ]
  },
  {
   "cell_type": "code",
   "execution_count": null,
   "id": "d418ba8b",
   "metadata": {},
   "outputs": [],
   "source": [
    "# Abrindo arquivo para gravação(escrita)\n",
    "arq2 = open('arquivos/arquivo1.txt', 'w')   # 'w' --> abre no modo de escrita"
   ]
  },
  {
   "cell_type": "code",
   "execution_count": null,
   "id": "68b26df0",
   "metadata": {},
   "outputs": [],
   "source": [
    "# Gravando arquivo\n",
    "arq2.write('Testando gravação de arquiv os em Python')"
   ]
  },
  {
   "cell_type": "code",
   "execution_count": null,
   "id": "bdb7e13c",
   "metadata": {},
   "outputs": [],
   "source": [
    "arq2.close()   # fechando comando acima"
   ]
  },
  {
   "cell_type": "code",
   "execution_count": null,
   "id": "aa1eca88",
   "metadata": {},
   "outputs": [],
   "source": [
    "# ABRINDO O ARQUIVO NOVAMENTE PARA LEITURA\n",
    "arq2 = open('arquivos/arquivo1.txt', 'r')"
   ]
  },
  {
   "cell_type": "code",
   "execution_count": null,
   "id": "4070039d",
   "metadata": {},
   "outputs": [],
   "source": [
    "# Lendo o que foi gravado\n",
    "print('Agora está escrito: ', arq2.read())"
   ]
  },
  {
   "cell_type": "code",
   "execution_count": null,
   "id": "c5644acf",
   "metadata": {},
   "outputs": [],
   "source": [
    "# Acrescentando caracteres(conteúd) ao arquivo\n",
    "# 'a' --> append\n",
    "arq2 = open('arquivos/arquivo1.txt', 'a')"
   ]
  },
  {
   "cell_type": "code",
   "execution_count": null,
   "id": "efa1c9f0",
   "metadata": {},
   "outputs": [],
   "source": [
    "# Escrevendo no arquivo\n",
    "arq2.write(' Acrescentando conteúdo')"
   ]
  },
  {
   "cell_type": "code",
   "execution_count": null,
   "id": "925c6590",
   "metadata": {},
   "outputs": [],
   "source": [
    "# Fechando a conexão\n",
    "arq2.close()"
   ]
  },
  {
   "cell_type": "code",
   "execution_count": null,
   "id": "547a04c3",
   "metadata": {},
   "outputs": [],
   "source": [
    "# Pedindo para ler\n",
    "arq2 = open('arquivos/arquivo1.txt', 'r')"
   ]
  },
  {
   "cell_type": "code",
   "execution_count": null,
   "id": "acbb124f",
   "metadata": {},
   "outputs": [],
   "source": [
    "# Agora lendo oque foi feito\n",
    "print(arq2.read())"
   ]
  },
  {
   "cell_type": "markdown",
   "id": "d824074d",
   "metadata": {},
   "source": [
    "# AUTOMATIZANDO O PROCESSO DE GRAVAÇÃO DO ARQUIVO"
   ]
  },
  {
   "cell_type": "code",
   "execution_count": null,
   "id": "b9387d1c",
   "metadata": {},
   "outputs": [],
   "source": [
    "# Quando ele digitar, vai gravar em 'fileName'\n",
    "fileName = input('Digite o nome do arquivo: ')"
   ]
  },
  {
   "cell_type": "code",
   "execution_count": null,
   "id": "0714fed0",
   "metadata": {},
   "outputs": [],
   "source": [
    "# para acrescentar ao arquivo\n",
    "fileName = fileName + '.txt'"
   ]
  },
  {
   "cell_type": "code",
   "execution_count": null,
   "id": "d5c866be",
   "metadata": {},
   "outputs": [],
   "source": [
    "# abrindo como forma escrita\n",
    "arq3 = open(fileName, 'w')"
   ]
  },
  {
   "cell_type": "code",
   "execution_count": null,
   "id": "278ba088",
   "metadata": {},
   "outputs": [],
   "source": [
    "arq3.write('Incluindo texto no arquivo criado')"
   ]
  },
  {
   "cell_type": "code",
   "execution_count": null,
   "id": "b7d90ccf",
   "metadata": {},
   "outputs": [],
   "source": [
    "arq3.close()"
   ]
  },
  {
   "cell_type": "code",
   "execution_count": null,
   "id": "b4a7333f",
   "metadata": {},
   "outputs": [],
   "source": [
    "arq3 = open(fileName, 'r')"
   ]
  },
  {
   "cell_type": "code",
   "execution_count": null,
   "id": "17e752e1",
   "metadata": {},
   "outputs": [],
   "source": [
    "print(arq3.read())"
   ]
  },
  {
   "cell_type": "code",
   "execution_count": null,
   "id": "1a9b43d4",
   "metadata": {},
   "outputs": [],
   "source": [
    "arq3.close()"
   ]
  },
  {
   "cell_type": "markdown",
   "id": "847c680c",
   "metadata": {},
   "source": [
    "# ABRINDO O DATASET EM UMA ÚNICA LINHA"
   ]
  },
  {
   "cell_type": "code",
   "execution_count": null,
   "id": "d297b943",
   "metadata": {},
   "outputs": [],
   "source": [
    "f = open('arquivos/salarios.csv', 'r')"
   ]
  },
  {
   "cell_type": "code",
   "execution_count": null,
   "id": "12bd68ca",
   "metadata": {},
   "outputs": [],
   "source": [
    "data = f.read()"
   ]
  },
  {
   "cell_type": "code",
   "execution_count": null,
   "id": "395e581c",
   "metadata": {},
   "outputs": [],
   "source": [
    "rows = data.split('\\n')"
   ]
  },
  {
   "cell_type": "code",
   "execution_count": null,
   "id": "85c26032",
   "metadata": {},
   "outputs": [],
   "source": [
    "print(rows)"
   ]
  },
  {
   "cell_type": "markdown",
   "id": "7e3adb37",
   "metadata": {},
   "source": [
    "# DIVIDINDO O DATASET EM COLUNAS"
   ]
  },
  {
   "cell_type": "code",
   "execution_count": null,
   "id": "db67c2f9",
   "metadata": {},
   "outputs": [],
   "source": [
    "f = open('arquivos/salarios.csv', 'r')"
   ]
  },
  {
   "cell_type": "code",
   "execution_count": null,
   "id": "e31a0d0b",
   "metadata": {},
   "outputs": [],
   "source": [
    "data = f.read()"
   ]
  },
  {
   "cell_type": "code",
   "execution_count": null,
   "id": "ddd71116",
   "metadata": {},
   "outputs": [],
   "source": [
    "rows = data.split('\\n')"
   ]
  },
  {
   "cell_type": "code",
   "execution_count": null,
   "id": "9c8cedd6",
   "metadata": {},
   "outputs": [],
   "source": [
    "# Criando uma lista vazia\n",
    "full_data = []"
   ]
  },
  {
   "cell_type": "code",
   "execution_count": null,
   "id": "83c71cab",
   "metadata": {},
   "outputs": [],
   "source": [
    "# Usando 'for' para percorrer a linha\n",
    "for row in rows:\n",
    "    split_row = row.split(',')   # 'split' --> será usado em cada linha\n",
    "    full_data.append(split_row)"
   ]
  },
  {
   "cell_type": "code",
   "execution_count": null,
   "id": "fb0df4ae",
   "metadata": {},
   "outputs": [],
   "source": [
    "# Mostrando o que foi feito\n",
    "print(full_data)   # Para cada linha tem a coluna individualizada"
   ]
  },
  {
   "cell_type": "markdown",
   "id": "cce14b2e",
   "metadata": {},
   "source": [
    "# CONTANDO AS LINHAS DO ARQUIVO"
   ]
  },
  {
   "cell_type": "code",
   "execution_count": null,
   "id": "da1cdb25",
   "metadata": {},
   "outputs": [],
   "source": [
    "f = open('arquivos/salarios.csv', 'r')"
   ]
  },
  {
   "cell_type": "code",
   "execution_count": null,
   "id": "5ef73f6c",
   "metadata": {},
   "outputs": [],
   "source": [
    "data = f.read()"
   ]
  },
  {
   "cell_type": "code",
   "execution_count": null,
   "id": "1e577406",
   "metadata": {},
   "outputs": [],
   "source": [
    "rows = data.split('\\n')"
   ]
  },
  {
   "cell_type": "code",
   "execution_count": null,
   "id": "101b1df8",
   "metadata": {},
   "outputs": [],
   "source": [
    "full_data = []"
   ]
  },
  {
   "cell_type": "code",
   "execution_count": null,
   "id": "b559656d",
   "metadata": {},
   "outputs": [],
   "source": [
    "for row in rows:\n",
    "    split_row = row.split(',')\n",
    "    full_data.append(split_row)"
   ]
  },
  {
   "cell_type": "code",
   "execution_count": null,
   "id": "799c55ec",
   "metadata": {},
   "outputs": [],
   "source": [
    "# Para cad linha dentro do objeto 'full_data' atribui um valor\n",
    "count = 0\n",
    "for row in full_data:\n",
    "    count += 1"
   ]
  },
  {
   "cell_type": "code",
   "execution_count": null,
   "id": "37085ff2",
   "metadata": {},
   "outputs": [],
   "source": [
    "# Mostrar o que foi feito\n",
    "print('Total de linhas: ', count)"
   ]
  },
  {
   "cell_type": "markdown",
   "id": "0ed3c5d0",
   "metadata": {},
   "source": [
    "# CONTANDO AS COLUNAS DO ARQUIVO"
   ]
  },
  {
   "cell_type": "code",
   "execution_count": null,
   "id": "258b8986",
   "metadata": {},
   "outputs": [],
   "source": [
    "f = open('arquivos/salarios.csv', 'r')\n",
    "data = f.read()\n",
    "rows = data.split('\\n')\n",
    "full_data = []"
   ]
  },
  {
   "cell_type": "code",
   "execution_count": null,
   "id": "da44f1ec",
   "metadata": {},
   "outputs": [],
   "source": [
    "for row in rows:\n",
    "    split_row = row.split(',')\n",
    "    full_data.append(split_row)\n",
    "    first_row = full_data[0]\n",
    "    \n",
    "count = 0"
   ]
  },
  {
   "cell_type": "code",
   "execution_count": null,
   "id": "654f9e71",
   "metadata": {},
   "outputs": [],
   "source": [
    "for column in first_row:\n",
    "    count = count + 1"
   ]
  },
  {
   "cell_type": "code",
   "execution_count": null,
   "id": "447c8b31",
   "metadata": {},
   "outputs": [],
   "source": [
    "print('Tem ', count, ' colunas')"
   ]
  },
  {
   "cell_type": "code",
   "execution_count": null,
   "id": "439463f6",
   "metadata": {},
   "outputs": [],
   "source": []
  }
 ],
 "metadata": {
  "kernelspec": {
   "display_name": "Python 3",
   "language": "python",
   "name": "python3"
  },
  "language_info": {
   "codemirror_mode": {
    "name": "ipython",
    "version": 3
   },
   "file_extension": ".py",
   "mimetype": "text/x-python",
   "name": "python",
   "nbconvert_exporter": "python",
   "pygments_lexer": "ipython3",
   "version": "3.8.8"
  }
 },
 "nbformat": 4,
 "nbformat_minor": 5
}
