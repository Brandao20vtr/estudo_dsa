{
 "cells": [
  {
   "cell_type": "code",
   "execution_count": null,
   "id": "1cb1c31b",
   "metadata": {},
   "outputs": [],
   "source": [
    "# MANIPURANDO ARQUIVO TXT"
   ]
  },
  {
   "cell_type": "code",
   "execution_count": 1,
   "id": "91e6422f",
   "metadata": {},
   "outputs": [],
   "source": [
    "# 1 - Vou criar uma string/texto\n",
    "# 2 - Concatenei para adicionar uma frase no 'texto'\n",
    "# 3 - Fiz outra concatenação para adicionar outra frase\n",
    "\n",
    "texto = 'Cientista de Dados é a profissão que mais tem crescido em todo mundo.\\n'\n",
    "texto += 'Esses profissionais precisam se especializar em Programação, Estatística e Machine Learning.\\n'\n",
    "texto += 'E claro, em Big Data.'"
   ]
  },
  {
   "cell_type": "code",
   "execution_count": 2,
   "id": "6405392a",
   "metadata": {},
   "outputs": [
    {
     "name": "stdout",
     "output_type": "stream",
     "text": [
      "Cientista de Dados é a profissão que mais tem crescido em todo mundo.\n",
      "Esses profissionais precisam se especializar em Programação, Estatística e Machine Learning.\n",
      "E claro, em Big Data.\n"
     ]
    }
   ],
   "source": [
    "print(texto)"
   ]
  },
  {
   "cell_type": "code",
   "execution_count": 3,
   "id": "5a117839",
   "metadata": {},
   "outputs": [],
   "source": [
    "# Importando o pacote 'os'\n",
    "# Pacote para manipular o sistema operacional\n",
    "\n",
    "import os"
   ]
  },
  {
   "cell_type": "code",
   "execution_count": 4,
   "id": "b1d0e24e",
   "metadata": {},
   "outputs": [],
   "source": [
    "# Abrindo e criando um arquivo\n",
    "# Ao abrir um arquivo que não existe para escrita, automaticamente o python cria um \n",
    "\n",
    "arquivo = open(os.path.join('arquivos/cientista.txt'), 'w')"
   ]
  },
  {
   "cell_type": "code",
   "execution_count": 5,
   "id": "47ac74e4",
   "metadata": {},
   "outputs": [],
   "source": [
    "# Depois de aberto, agora vou gravar conteúdo dentro desse arquivo\n",
    "\n",
    "for palavra in texto.split():\n",
    "    arquivo.write(palavra + ' ')\n",
    "    \n",
    "# Para cada palavra em 'texto', vá separando as palavras e gravando no arquivo\n"
   ]
  },
  {
   "cell_type": "code",
   "execution_count": 6,
   "id": "2a080aac",
   "metadata": {},
   "outputs": [],
   "source": [
    "# Fechar a conexão como arquivo\n",
    "\n",
    "arquivo.close()"
   ]
  },
  {
   "cell_type": "code",
   "execution_count": 7,
   "id": "e6c9708c",
   "metadata": {},
   "outputs": [
    {
     "name": "stdout",
     "output_type": "stream",
     "text": [
      "Cientista de Dados é a profissão que mais tem crescido em todo mundo. Esses profissionais precisam se especializar em Programação, Estatística e Machine Learning. E claro, em Big Data. \n"
     ]
    }
   ],
   "source": [
    "# Lendo o arquivo que foi criado\n",
    "\n",
    "# Abrindo arquivo para leitura\n",
    "arquivo = open('arquivos/cientista.txt', 'r')\n",
    "conteudo = arquivo.read()\n",
    "arquivo.close()\n",
    "\n",
    "# Imprimindo o conteúdo\n",
    "print(conteudo)"
   ]
  }
 ],
 "metadata": {
  "kernelspec": {
   "display_name": "Python 3",
   "language": "python",
   "name": "python3"
  },
  "language_info": {
   "codemirror_mode": {
    "name": "ipython",
    "version": 3
   },
   "file_extension": ".py",
   "mimetype": "text/x-python",
   "name": "python",
   "nbconvert_exporter": "python",
   "pygments_lexer": "ipython3",
   "version": "3.8.8"
  }
 },
 "nbformat": 4,
 "nbformat_minor": 5
}
