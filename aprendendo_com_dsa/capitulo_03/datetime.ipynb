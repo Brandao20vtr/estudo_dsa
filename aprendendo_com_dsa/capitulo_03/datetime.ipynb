{
 "cells": [
  {
   "cell_type": "markdown",
   "id": "e60318c5",
   "metadata": {},
   "source": [
    "# Datetime\n",
    "Esse módulo permite a manipulação de datas.\n",
    "#### Documentação: https://pandas.pydata.org/pandas-docs/stable/user_guide/timeseries.html"
   ]
  },
  {
   "cell_type": "code",
   "execution_count": 1,
   "id": "642370ee",
   "metadata": {},
   "outputs": [],
   "source": [
    "# Importando o pacote\n",
    "import datetime"
   ]
  },
  {
   "cell_type": "code",
   "execution_count": 2,
   "id": "cae81d0d",
   "metadata": {},
   "outputs": [],
   "source": [
    "# Vai retornar a data atual\n",
    "horaAgora = datetime.datetime.now()"
   ]
  },
  {
   "cell_type": "code",
   "execution_count": 3,
   "id": "417ec60b",
   "metadata": {},
   "outputs": [
    {
     "data": {
      "text/plain": [
       "datetime.datetime(2023, 7, 16, 11, 24, 33, 21925)"
      ]
     },
     "execution_count": 3,
     "metadata": {},
     "output_type": "execute_result"
    }
   ],
   "source": [
    "horaAgora"
   ]
  },
  {
   "cell_type": "code",
   "execution_count": 8,
   "id": "618176a9",
   "metadata": {},
   "outputs": [],
   "source": [
    "# Criando a própria data\n",
    "t = datetime.time(6, 27, 46)   # Hora, Minuto, Segundo"
   ]
  },
  {
   "cell_type": "code",
   "execution_count": 10,
   "id": "3355f021",
   "metadata": {},
   "outputs": [
    {
     "name": "stdout",
     "output_type": "stream",
     "text": [
      "Horário:  06:27:46\n"
     ]
    }
   ],
   "source": [
    "print('Horário: ', t)"
   ]
  },
  {
   "cell_type": "code",
   "execution_count": 11,
   "id": "2e6a716f",
   "metadata": {},
   "outputs": [
    {
     "name": "stdout",
     "output_type": "stream",
     "text": [
      "Hora:  6\n",
      "Minuto:  27\n",
      "Segundo:  46\n",
      "Microsegundo:  0\n"
     ]
    }
   ],
   "source": [
    "# Extraindo informações da variável 't' que foi criada\n",
    "print('Hora: ', t.hour)   # Pegando a hora\n",
    "print('Minuto: ', t.minute)   # Pegando o minuto\n",
    "print('Segundo: ', t.second)   # Pegando os segundos\n",
    "print('Microsegundo: ', t.microsecond)   # Pegando os microsegundos"
   ]
  },
  {
   "cell_type": "code",
   "execution_count": 16,
   "id": "a6ac8e46",
   "metadata": {},
   "outputs": [],
   "source": [
    "# Retornando o dia de hoje\n",
    "hoje = datetime.date.today()"
   ]
  },
  {
   "cell_type": "code",
   "execution_count": 17,
   "id": "7596a657",
   "metadata": {},
   "outputs": [
    {
     "name": "stdout",
     "output_type": "stream",
     "text": [
      "2022-04-30\n",
      "ctime:  Sat Apr 30 00:00:00 2022\n",
      "Year:  2022\n",
      "Month:  4\n",
      "Day:  30\n"
     ]
    }
   ],
   "source": [
    "print(hoje)   # Mostrando data de hoje\n",
    "print('ctime: ', hoje.ctime())   # Formato completo da data\n",
    "print('Year: ', hoje.year)\n",
    "print('Month: ', hoje.month)\n",
    "print('Day: ', hoje.day)"
   ]
  },
  {
   "cell_type": "code",
   "execution_count": 26,
   "id": "2b5a1bef",
   "metadata": {},
   "outputs": [
    {
     "name": "stdout",
     "output_type": "stream",
     "text": [
      "Data-01:  2022-04-30\n"
     ]
    }
   ],
   "source": [
    "# Cálculos em datas\n",
    "# Extraí a date de HOJE para poder subitrair com outra data\n",
    "# d1 --> Variável que armazenará o valor da data\n",
    "d1 = datetime.date(2022, 4, 30)\n",
    "print('Data-01: ', d1)"
   ]
  },
  {
   "cell_type": "code",
   "execution_count": 27,
   "id": "df4e63d2",
   "metadata": {},
   "outputs": [
    {
     "name": "stdout",
     "output_type": "stream",
     "text": [
      "Data-02:  1998-09-20\n"
     ]
    }
   ],
   "source": [
    "# Criando outra variável\n",
    "d2 = datetime.date(1998, 9, 20)\n",
    "print('Data-02: ', d2)"
   ]
  },
  {
   "cell_type": "code",
   "execution_count": 28,
   "id": "4263b55c",
   "metadata": {},
   "outputs": [
    {
     "data": {
      "text/plain": [
       "datetime.timedelta(days=8623)"
      ]
     },
     "execution_count": 28,
     "metadata": {},
     "output_type": "execute_result"
    }
   ],
   "source": [
    "# Subtraindo as datas\n",
    "d1 - d2"
   ]
  },
  {
   "cell_type": "code",
   "execution_count": null,
   "id": "d42afb8b",
   "metadata": {},
   "outputs": [],
   "source": []
  }
 ],
 "metadata": {
  "interpreter": {
   "hash": "3a23c1fff748fd79ca478c64f9bf3d1c6a1797515f98b9b89ff038832e665379"
  },
  "kernelspec": {
   "display_name": "Python 3.8.8 ('base')",
   "language": "python",
   "name": "python3"
  },
  "language_info": {
   "codemirror_mode": {
    "name": "ipython",
    "version": 3
   },
   "file_extension": ".py",
   "mimetype": "text/x-python",
   "name": "python",
   "nbconvert_exporter": "python",
   "pygments_lexer": "ipython3",
   "version": "3.8.8"
  }
 },
 "nbformat": 4,
 "nbformat_minor": 5
}
