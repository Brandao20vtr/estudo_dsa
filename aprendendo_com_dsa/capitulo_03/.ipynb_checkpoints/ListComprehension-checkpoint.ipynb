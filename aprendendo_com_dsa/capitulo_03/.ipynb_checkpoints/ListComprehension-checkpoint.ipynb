{
 "cells": [
  {
   "cell_type": "markdown",
   "id": "846f706a",
   "metadata": {},
   "source": [
    "# List Comprehension\n",
    "Aplica uma expressão arbitrária (ao invés de aplicar apenas uma função) a uma sequência de elementos.\n",
    "\n",
    "Permite desenvolver listas usando una notação diferente. Seria essencialmente uma linha de **_loop for_**, construída dentro de [].\n",
    "\n",
    "**Exemplo:**\n",
    "\n",
    "    lst = [x for x in 'sequência']"
   ]
  },
  {
   "cell_type": "code",
   "execution_count": 16,
   "id": "266a2c24",
   "metadata": {},
   "outputs": [],
   "source": [
    "# Vamos retornar cada caracter em uma sequência de caracteres\n",
    "lst = [x for x in 'Ciência']"
   ]
  },
  {
   "cell_type": "code",
   "execution_count": 17,
   "id": "2b4692e4",
   "metadata": {},
   "outputs": [
    {
     "data": {
      "text/plain": [
       "['C', 'i', 'ê', 'n', 'c', 'i', 'a']"
      ]
     },
     "execution_count": 17,
     "metadata": {},
     "output_type": "execute_result"
    }
   ],
   "source": [
    "# Check\n",
    "lst\n",
    "\n",
    "# Essa função coloca em uma lista cada elemento de uma sequência de elementos separadamente"
   ]
  },
  {
   "cell_type": "code",
   "execution_count": 18,
   "id": "e33f804d",
   "metadata": {},
   "outputs": [
    {
     "data": {
      "text/plain": [
       "list"
      ]
     },
     "execution_count": 18,
     "metadata": {},
     "output_type": "execute_result"
    }
   ],
   "source": [
    "# Verificando se é mesmo uma lista\n",
    "type(lst)"
   ]
  },
  {
   "cell_type": "code",
   "execution_count": 19,
   "id": "d9572d82",
   "metadata": {},
   "outputs": [],
   "source": [
    "# Multiplicando os valores que estão em um range de números\n",
    "lst = [x**2 for x in range(0, 11)]"
   ]
  },
  {
   "cell_type": "code",
   "execution_count": 20,
   "id": "7147bf93",
   "metadata": {},
   "outputs": [
    {
     "data": {
      "text/plain": [
       "[0, 1, 4, 9, 16, 25, 36, 49, 64, 81, 100]"
      ]
     },
     "execution_count": 20,
     "metadata": {},
     "output_type": "execute_result"
    }
   ],
   "source": [
    "# Check\n",
    "lst\n",
    "\n",
    "# Multiplicou cada número do range ao quadrado"
   ]
  },
  {
   "cell_type": "code",
   "execution_count": 21,
   "id": "f27163f2",
   "metadata": {},
   "outputs": [],
   "source": [
    "# Verificando os números pares em um range de números\n",
    "# Retorna uma lista onde os valores dentro do range for dividido por 2 e o resto dor zero (némero par)\n",
    "lst = [x for x in range(11) if x % 2 == 0]"
   ]
  },
  {
   "cell_type": "code",
   "execution_count": 22,
   "id": "84bc6c26",
   "metadata": {},
   "outputs": [
    {
     "data": {
      "text/plain": [
       "[0, 2, 4, 6, 8, 10]"
      ]
     },
     "execution_count": 22,
     "metadata": {},
     "output_type": "execute_result"
    }
   ],
   "source": [
    "# Check\n",
    "lst"
   ]
  },
  {
   "cell_type": "code",
   "execution_count": 23,
   "id": "e51a46af",
   "metadata": {},
   "outputs": [
    {
     "data": {
      "text/plain": [
       "[32.0, 50.0, 68.18, 94.1]"
      ]
     },
     "execution_count": 23,
     "metadata": {},
     "output_type": "execute_result"
    }
   ],
   "source": [
    "# Convertendo Celsius para Fahrenheit\n",
    "celsius = [0, 10, 20.1, 34.5]\n",
    "\n",
    "# (float(9)/(5)) * temp + 32) --> Fórmula para calcular a temperatura em Fahrenheit\n",
    "# Será feito um FOR em cima da lista 'celsius'\n",
    "fahrenheit = [((float(9)/(5)) * temp + 32) for temp in celsius]\n",
    "\n",
    "# Check\n",
    "fahrenheit"
   ]
  },
  {
   "cell_type": "code",
   "execution_count": 24,
   "id": "5bacaf51",
   "metadata": {},
   "outputs": [
    {
     "data": {
      "text/plain": [
       "[0, 1, 16, 81, 256, 625, 1296, 2401, 4096, 6561, 10000]"
      ]
     },
     "execution_count": 24,
     "metadata": {},
     "output_type": "execute_result"
    }
   ],
   "source": [
    "# Operações aninhadas\n",
    "lst = [x**2 for x in [x**2 for x in range(11)]]\n",
    "\n",
    "# Check\n",
    "lst"
   ]
  },
  {
   "cell_type": "code",
   "execution_count": null,
   "id": "10f88e80",
   "metadata": {},
   "outputs": [],
   "source": []
  },
  {
   "cell_type": "code",
   "execution_count": null,
   "id": "95d51ae2",
   "metadata": {},
   "outputs": [],
   "source": []
  },
  {
   "cell_type": "code",
   "execution_count": null,
   "id": "f0489dac",
   "metadata": {},
   "outputs": [],
   "source": []
  },
  {
   "cell_type": "code",
   "execution_count": null,
   "id": "f307a40d",
   "metadata": {},
   "outputs": [],
   "source": []
  },
  {
   "cell_type": "code",
   "execution_count": null,
   "id": "212578fd",
   "metadata": {},
   "outputs": [],
   "source": []
  },
  {
   "cell_type": "code",
   "execution_count": null,
   "id": "47328df9",
   "metadata": {},
   "outputs": [],
   "source": []
  },
  {
   "cell_type": "code",
   "execution_count": null,
   "id": "26eb702b",
   "metadata": {},
   "outputs": [],
   "source": []
  },
  {
   "cell_type": "code",
   "execution_count": null,
   "id": "154a5823",
   "metadata": {},
   "outputs": [],
   "source": []
  },
  {
   "cell_type": "code",
   "execution_count": null,
   "id": "28c1049e",
   "metadata": {},
   "outputs": [],
   "source": []
  }
 ],
 "metadata": {
  "kernelspec": {
   "display_name": "Python 3",
   "language": "python",
   "name": "python3"
  },
  "language_info": {
   "codemirror_mode": {
    "name": "ipython",
    "version": 3
   },
   "file_extension": ".py",
   "mimetype": "text/x-python",
   "name": "python",
   "nbconvert_exporter": "python",
   "pygments_lexer": "ipython3",
   "version": "3.8.8"
  }
 },
 "nbformat": 4,
 "nbformat_minor": 5
}
