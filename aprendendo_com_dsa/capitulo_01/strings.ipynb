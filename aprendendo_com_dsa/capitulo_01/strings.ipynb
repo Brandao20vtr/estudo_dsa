{
 "cells": [
  {
   "cell_type": "code",
   "execution_count": null,
   "id": "525226c4",
   "metadata": {},
   "outputs": [],
   "source": [
    "# INDEXANDO STRINGS"
   ]
  },
  {
   "cell_type": "code",
   "execution_count": null,
   "id": "af19b746",
   "metadata": {},
   "outputs": [],
   "source": [
    "texto = \"Eu sou o João\"   # Usado para chamar uma variável determinada."
   ]
  },
  {
   "cell_type": "code",
   "execution_count": null,
   "id": "614940fa",
   "metadata": {},
   "outputs": [],
   "source": [
    "texto[5]"
   ]
  },
  {
   "cell_type": "code",
   "execution_count": null,
   "id": "488fe394",
   "metadata": {},
   "outputs": [],
   "source": [
    "texto[0]   # Em Python a indexação SEMPRE começa pelo (0)."
   ]
  },
  {
   "cell_type": "code",
   "execution_count": null,
   "id": "a8697e7b",
   "metadata": {},
   "outputs": [],
   "source": [
    "texto[10]"
   ]
  },
  {
   "cell_type": "code",
   "execution_count": null,
   "id": "84f757e9",
   "metadata": {},
   "outputs": [],
   "source": [
    "# SLICING COM STRINGS"
   ]
  },
  {
   "cell_type": "code",
   "execution_count": null,
   "id": "371d4a4b",
   "metadata": {},
   "outputs": [],
   "source": [
    "texto[5:]   # Retorna do quinto valor até o último."
   ]
  },
  {
   "cell_type": "code",
   "execution_count": null,
   "id": "140b4eba",
   "metadata": {},
   "outputs": [],
   "source": [
    "texto[:7]   # Retorna do primeiro valor até o sétimo."
   ]
  },
  {
   "cell_type": "code",
   "execution_count": null,
   "id": "a5e5617e",
   "metadata": {},
   "outputs": [],
   "source": [
    "# STRINGS"
   ]
  },
  {
   "cell_type": "code",
   "execution_count": null,
   "id": "d15c7548",
   "metadata": {},
   "outputs": [],
   "source": [
    "print(\"\\t\\tOlá Mundo.\\n\\nEu sou o João.\")"
   ]
  },
  {
   "cell_type": "code",
   "execution_count": null,
   "id": "e2155da8",
   "metadata": {},
   "outputs": [],
   "source": [
    "'Olá Mundo.'"
   ]
  },
  {
   "cell_type": "code",
   "execution_count": null,
   "id": "07141274",
   "metadata": {},
   "outputs": [],
   "source": [
    "\"Eu sou o João.\""
   ]
  },
  {
   "cell_type": "code",
   "execution_count": null,
   "id": "757dc244",
   "metadata": {},
   "outputs": [],
   "source": [
    "letra = \"W\""
   ]
  },
  {
   "cell_type": "code",
   "execution_count": null,
   "id": "921311ca",
   "metadata": {},
   "outputs": [],
   "source": [
    "letra * 3"
   ]
  },
  {
   "cell_type": "code",
   "execution_count": null,
   "id": "c629d0a8",
   "metadata": {},
   "outputs": [],
   "source": [
    "# MÉTODOS DA STRING"
   ]
  },
  {
   "cell_type": "code",
   "execution_count": null,
   "id": "36de7c02",
   "metadata": {},
   "outputs": [],
   "source": [
    "texto = \"Eu sou o João\""
   ]
  },
  {
   "cell_type": "code",
   "execution_count": null,
   "id": "117fb727",
   "metadata": {},
   "outputs": [],
   "source": [
    "texto.upper()   # Método usado para converter todas as letras em Maiúsculas."
   ]
  },
  {
   "cell_type": "code",
   "execution_count": null,
   "id": "d5e99702",
   "metadata": {},
   "outputs": [],
   "source": [
    "texto.lower()   # Método usado para converter todas as letras em Minúsculas."
   ]
  },
  {
   "cell_type": "code",
   "execution_count": null,
   "id": "d7a31c85",
   "metadata": {},
   "outputs": [],
   "source": [
    "texto.split()   # Método que fasz a divisão na frase."
   ]
  },
  {
   "cell_type": "code",
   "execution_count": null,
   "id": "c632ddf1",
   "metadata": {},
   "outputs": [],
   "source": [
    "texto.capitalize()   # Método usado para deixar apenas a primeira letra Maiúscula."
   ]
  },
  {
   "cell_type": "code",
   "execution_count": null,
   "id": "b1b933a1",
   "metadata": {},
   "outputs": [],
   "source": [
    "# COMPARANDO STRINGS"
   ]
  },
  {
   "cell_type": "code",
   "execution_count": null,
   "id": "fdd2e6a6",
   "metadata": {},
   "outputs": [],
   "source": [
    "print(\"Eu\" == \"João\")   # Usado para comparar se uma costring é igual a outra."
   ]
  },
  {
   "cell_type": "code",
   "execution_count": null,
   "id": "0c5ec2f2",
   "metadata": {},
   "outputs": [],
   "source": [
    "print(\"João\" == \"João\")"
   ]
  },
  {
   "cell_type": "code",
   "execution_count": null,
   "id": "7ff29d73",
   "metadata": {},
   "outputs": [],
   "source": []
  }
 ],
 "metadata": {
  "kernelspec": {
   "display_name": "Python 3",
   "language": "python",
   "name": "python3"
  },
  "language_info": {
   "codemirror_mode": {
    "name": "ipython",
    "version": 3
   },
   "file_extension": ".py",
   "mimetype": "text/x-python",
   "name": "python",
   "nbconvert_exporter": "python",
   "pygments_lexer": "ipython3",
   "version": "3.8.8"
  }
 },
 "nbformat": 4,
 "nbformat_minor": 5
}
