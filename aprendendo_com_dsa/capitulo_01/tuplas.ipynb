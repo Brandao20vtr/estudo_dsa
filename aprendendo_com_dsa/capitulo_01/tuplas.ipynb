{
 "cells": [
  {
   "cell_type": "code",
   "execution_count": null,
   "id": "96192d04",
   "metadata": {},
   "outputs": [],
   "source": [
    "# TUPLAS - CRIADA COM ()."
   ]
  },
  {
   "cell_type": "code",
   "execution_count": null,
   "id": "3c86e23f",
   "metadata": {},
   "outputs": [],
   "source": [
    "Tupla = (\"Geografia\", 20, \"Leão\")"
   ]
  },
  {
   "cell_type": "code",
   "execution_count": null,
   "id": "b18c5aca",
   "metadata": {},
   "outputs": [],
   "source": [
    "Tupla"
   ]
  },
  {
   "cell_type": "code",
   "execution_count": null,
   "id": "9b928f27",
   "metadata": {},
   "outputs": [],
   "source": [
    "len(Tupla)"
   ]
  },
  {
   "cell_type": "code",
   "execution_count": null,
   "id": "327a53f4",
   "metadata": {},
   "outputs": [],
   "source": [
    "del Tupla"
   ]
  },
  {
   "cell_type": "code",
   "execution_count": null,
   "id": "f0e66961",
   "metadata": {},
   "outputs": [],
   "source": [
    "Tupla2 = (\"A\",\"B\",\"C\")"
   ]
  },
  {
   "cell_type": "code",
   "execution_count": null,
   "id": "8557e97a",
   "metadata": {},
   "outputs": [],
   "source": [
    "Tupla2"
   ]
  },
  {
   "cell_type": "code",
   "execution_count": null,
   "id": "fa3e8394",
   "metadata": {},
   "outputs": [],
   "source": []
  },
  {
   "cell_type": "code",
   "execution_count": null,
   "id": "64ff3fca",
   "metadata": {},
   "outputs": [],
   "source": [
    "# CONVERTENDO TUPLA PARA LISTA"
   ]
  },
  {
   "cell_type": "code",
   "execution_count": null,
   "id": "c4da0fb6",
   "metadata": {},
   "outputs": [],
   "source": [
    "Lista_Tupla2 = list(Tupla2)   # Convertendo Tupla para Lista, para poder adicionar um valor."
   ]
  },
  {
   "cell_type": "code",
   "execution_count": null,
   "id": "61f59d5c",
   "metadata": {},
   "outputs": [],
   "source": [
    "Lista_Tupla2   # Tupla convertida."
   ]
  },
  {
   "cell_type": "code",
   "execution_count": null,
   "id": "228df70d",
   "metadata": {},
   "outputs": [],
   "source": [
    "Lista_Tupla2.append('D')   # Adicionando o valor 'D'."
   ]
  },
  {
   "cell_type": "code",
   "execution_count": null,
   "id": "9bf47776",
   "metadata": {},
   "outputs": [],
   "source": [
    "Tupla2 = tuple(Lista_Tupla2)   # Convertendo Lista para Tupla novamente."
   ]
  },
  {
   "cell_type": "code",
   "execution_count": null,
   "id": "4edd1e73",
   "metadata": {},
   "outputs": [],
   "source": [
    "Tupla2   # Tupla com novo item adicionado."
   ]
  },
  {
   "cell_type": "code",
   "execution_count": null,
   "id": "c72e8dfa",
   "metadata": {},
   "outputs": [],
   "source": []
  }
 ],
 "metadata": {
  "kernelspec": {
   "display_name": "Python 3",
   "language": "python",
   "name": "python3"
  },
  "language_info": {
   "codemirror_mode": {
    "name": "ipython",
    "version": 3
   },
   "file_extension": ".py",
   "mimetype": "text/x-python",
   "name": "python",
   "nbconvert_exporter": "python",
   "pygments_lexer": "ipython3",
   "version": "3.8.8"
  }
 },
 "nbformat": 4,
 "nbformat_minor": 5
}
