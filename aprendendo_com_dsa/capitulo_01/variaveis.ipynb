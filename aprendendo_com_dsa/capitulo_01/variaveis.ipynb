{
 "cells": [
  {
   "cell_type": "code",
   "execution_count": null,
   "id": "a8c7fa1a",
   "metadata": {},
   "outputs": [],
   "source": [
    "# ESTUDANDO AS VARIÁVEIS"
   ]
  },
  {
   "cell_type": "code",
   "execution_count": null,
   "id": "34b88e19",
   "metadata": {},
   "outputs": [],
   "source": [
    "var_teste = 5   # Digo a variável para guardar o valor (5) nela para que eu possa solicitá-la depois."
   ]
  },
  {
   "cell_type": "code",
   "execution_count": null,
   "id": "bbcf9980",
   "metadata": {},
   "outputs": [],
   "source": [
    "var_teste   # O valor que foi guardado agora retorna para mim."
   ]
  },
  {
   "cell_type": "code",
   "execution_count": null,
   "id": "4a24b069",
   "metadata": {},
   "outputs": [],
   "source": [
    "print(var_teste)   # Uma outra forma de solicitar o valor que foi guardado."
   ]
  },
  {
   "cell_type": "code",
   "execution_count": null,
   "id": "0e91332d",
   "metadata": {},
   "outputs": [],
   "source": [
    "# DECLARAÇÕES MULTIPLAS PARA AS VARIÁVEIS"
   ]
  },
  {
   "cell_type": "code",
   "execution_count": null,
   "id": "134a4756",
   "metadata": {},
   "outputs": [],
   "source": [
    "pessoa1, pessoa2, pessoa3 = \"João\", \"Yan\", \"Danilo\""
   ]
  },
  {
   "cell_type": "code",
   "execution_count": null,
   "id": "eabd997a",
   "metadata": {},
   "outputs": [],
   "source": [
    "pessoa1"
   ]
  },
  {
   "cell_type": "code",
   "execution_count": null,
   "id": "d8824379",
   "metadata": {},
   "outputs": [],
   "source": [
    "pessoa2"
   ]
  },
  {
   "cell_type": "code",
   "execution_count": null,
   "id": "ff691de1",
   "metadata": {},
   "outputs": [],
   "source": [
    "pessoa3"
   ]
  },
  {
   "cell_type": "code",
   "execution_count": null,
   "id": "e400f39a",
   "metadata": {},
   "outputs": [],
   "source": [
    "x, y, z = \"Azul\", \"Amarelo\", \"Vermelho\""
   ]
  },
  {
   "cell_type": "code",
   "execution_count": null,
   "id": "4e4509c5",
   "metadata": {},
   "outputs": [],
   "source": [
    "x"
   ]
  },
  {
   "cell_type": "code",
   "execution_count": null,
   "id": "f90910ac",
   "metadata": {},
   "outputs": [],
   "source": [
    "y"
   ]
  },
  {
   "cell_type": "code",
   "execution_count": null,
   "id": "2d624650",
   "metadata": {},
   "outputs": [],
   "source": [
    "z"
   ]
  },
  {
   "cell_type": "code",
   "execution_count": null,
   "id": "6eb90fc8",
   "metadata": {},
   "outputs": [],
   "source": [
    "# CONCATENAÇÃO DE VARIÁVEIS"
   ]
  },
  {
   "cell_type": "code",
   "execution_count": null,
   "id": "822bc9f3",
   "metadata": {},
   "outputs": [],
   "source": [
    "nome = \"João\""
   ]
  },
  {
   "cell_type": "code",
   "execution_count": null,
   "id": "24e53722",
   "metadata": {},
   "outputs": [],
   "source": [
    "sobrenome = \"Ferreira\""
   ]
  },
  {
   "cell_type": "code",
   "execution_count": null,
   "id": "ac05bded",
   "metadata": {},
   "outputs": [],
   "source": [
    "fullname = nome+ \" \" +sobrenome"
   ]
  },
  {
   "cell_type": "code",
   "execution_count": null,
   "id": "a6873e6e",
   "metadata": {},
   "outputs": [],
   "source": [
    "fullname"
   ]
  },
  {
   "cell_type": "code",
   "execution_count": null,
   "id": "adfbe7ac",
   "metadata": {},
   "outputs": [],
   "source": []
  }
 ],
 "metadata": {
  "kernelspec": {
   "display_name": "Python 3",
   "language": "python",
   "name": "python3"
  },
  "language_info": {
   "codemirror_mode": {
    "name": "ipython",
    "version": 3
   },
   "file_extension": ".py",
   "mimetype": "text/x-python",
   "name": "python",
   "nbconvert_exporter": "python",
   "pygments_lexer": "ipython3",
   "version": "3.8.8"
  }
 },
 "nbformat": 4,
 "nbformat_minor": 5
}
