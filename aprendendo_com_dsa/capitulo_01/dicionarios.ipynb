{
 "cells": [
  {
   "cell_type": "code",
   "execution_count": null,
   "id": "9a57be54",
   "metadata": {},
   "outputs": [],
   "source": [
    "# DICIONÁRIOS"
   ]
  },
  {
   "cell_type": "code",
   "execution_count": null,
   "id": "81a17af8",
   "metadata": {},
   "outputs": [],
   "source": [
    "# Listas são criadas com conchetes.\n",
    "\n",
    "listaestudantes = [\"João\", 20, \"Yan\", 21, \"Jessica\", 22, \"Danilo\", 23, \"Esmirna\", 24]"
   ]
  },
  {
   "cell_type": "code",
   "execution_count": null,
   "id": "6b39d405",
   "metadata": {},
   "outputs": [],
   "source": [
    "listaestudantes"
   ]
  },
  {
   "cell_type": "code",
   "execution_count": null,
   "id": "b18b0aa2",
   "metadata": {},
   "outputs": [],
   "source": [
    "# Dicionários são criados com chaves.\n",
    "\n",
    "dicionarioestudantes = {\"João\":20, \"Yan\":21, \"Jessica\":22, \"Danilo\":23, \"Esmirna\":24}"
   ]
  },
  {
   "cell_type": "code",
   "execution_count": null,
   "id": "6fdde179",
   "metadata": {},
   "outputs": [],
   "source": [
    "dicionarioestudantes"
   ]
  },
  {
   "cell_type": "code",
   "execution_count": null,
   "id": "f017a9f8",
   "metadata": {},
   "outputs": [],
   "source": [
    "dicionarioestudantes[\"Jessica\"]"
   ]
  },
  {
   "cell_type": "code",
   "execution_count": null,
   "id": "26e3be36",
   "metadata": {},
   "outputs": [],
   "source": [
    "dicionarioestudantes[\"João\"] = 25   # Dando essa instrução ao Python, ele mesmo reconhece o novo nome e o adiciona no dicionário."
   ]
  },
  {
   "cell_type": "code",
   "execution_count": null,
   "id": "46b8adac",
   "metadata": {},
   "outputs": [],
   "source": [
    "dicionarioestudantes[\"João\"]"
   ]
  },
  {
   "cell_type": "code",
   "execution_count": null,
   "id": "d82a9c8c",
   "metadata": {},
   "outputs": [],
   "source": [
    "dicionarioestudantes"
   ]
  },
  {
   "cell_type": "code",
   "execution_count": null,
   "id": "2df7b66e",
   "metadata": {},
   "outputs": [],
   "source": [
    "dicionarioestudantes.clear()   # Usado para limpar o dicionário."
   ]
  },
  {
   "cell_type": "code",
   "execution_count": null,
   "id": "554ba92d",
   "metadata": {},
   "outputs": [],
   "source": [
    "dicionarioestudantes"
   ]
  },
  {
   "cell_type": "code",
   "execution_count": null,
   "id": "96026233",
   "metadata": {},
   "outputs": [],
   "source": [
    "del dicionarioestudantes   # Usado para deletar o dicionário."
   ]
  },
  {
   "cell_type": "code",
   "execution_count": null,
   "id": "9fd111b0",
   "metadata": {},
   "outputs": [],
   "source": [
    "dicionarioestudantes"
   ]
  },
  {
   "cell_type": "code",
   "execution_count": null,
   "id": "80873e5a",
   "metadata": {},
   "outputs": [],
   "source": [
    "len(dicionarioestudantes)   # Mostra o tamanho do dicionário."
   ]
  },
  {
   "cell_type": "code",
   "execution_count": null,
   "id": "39d0f71b",
   "metadata": {},
   "outputs": [],
   "source": []
  },
  {
   "cell_type": "code",
   "execution_count": null,
   "id": "c0940adb",
   "metadata": {},
   "outputs": [],
   "source": [
    "# COLETANDO AS KEYS NO DICIONÁRIO"
   ]
  },
  {
   "cell_type": "code",
   "execution_count": null,
   "id": "2e39ff22",
   "metadata": {},
   "outputs": [],
   "source": [
    "dicionarioestudantes.keys()"
   ]
  },
  {
   "cell_type": "code",
   "execution_count": null,
   "id": "cc682127",
   "metadata": {},
   "outputs": [],
   "source": [
    "dicionarioestudantes.values()"
   ]
  },
  {
   "cell_type": "code",
   "execution_count": null,
   "id": "c2f7aca9",
   "metadata": {},
   "outputs": [],
   "source": [
    "dicionarioestudantes.items()"
   ]
  },
  {
   "cell_type": "code",
   "execution_count": null,
   "id": "601dca06",
   "metadata": {},
   "outputs": [],
   "source": []
  },
  {
   "cell_type": "code",
   "execution_count": null,
   "id": "70f82fa9",
   "metadata": {},
   "outputs": [],
   "source": [
    "# UNINDO DOIS DICIONÁRIOS"
   ]
  },
  {
   "cell_type": "code",
   "execution_count": null,
   "id": "1957e5dc",
   "metadata": {},
   "outputs": [],
   "source": [
    "dicionarioestudantes2 = {\"Mateus\":26, \"Marcos\":27, \"Lucas\":28}"
   ]
  },
  {
   "cell_type": "code",
   "execution_count": null,
   "id": "e7c1c6c5",
   "metadata": {},
   "outputs": [],
   "source": [
    "dicionarioestudantes2"
   ]
  },
  {
   "cell_type": "code",
   "execution_count": null,
   "id": "62129026",
   "metadata": {},
   "outputs": [],
   "source": [
    "dicionarioestudantes.update(dicionarioestudantes2)   # Com essa função eu consigo unir os dois dicionários em apenas um,como uma concatenação."
   ]
  },
  {
   "cell_type": "code",
   "execution_count": null,
   "id": "c82c1c2c",
   "metadata": {},
   "outputs": [],
   "source": [
    "dicionarioestudantes"
   ]
  },
  {
   "cell_type": "code",
   "execution_count": null,
   "id": "92a1241c",
   "metadata": {},
   "outputs": [],
   "source": [
    "dicionarioestudantes[\"João\"] = 25"
   ]
  },
  {
   "cell_type": "code",
   "execution_count": null,
   "id": "44e9fa54",
   "metadata": {},
   "outputs": [],
   "source": [
    "dicionarioestudantes"
   ]
  },
  {
   "cell_type": "code",
   "execution_count": null,
   "id": "b8720689",
   "metadata": {},
   "outputs": [],
   "source": []
  },
  {
   "cell_type": "code",
   "execution_count": null,
   "id": "0329f698",
   "metadata": {},
   "outputs": [],
   "source": [
    "# DICIONÁRIO DE LISTA"
   ]
  },
  {
   "cell_type": "code",
   "execution_count": null,
   "id": "25001a64",
   "metadata": {},
   "outputs": [],
   "source": [
    "dicionario01 = {'key1':123,'key2':[456,789,987],'key3':['leite','maça','batata']}"
   ]
  },
  {
   "cell_type": "code",
   "execution_count": null,
   "id": "37ef9bf3",
   "metadata": {},
   "outputs": [],
   "source": [
    "dicionario01"
   ]
  },
  {
   "cell_type": "code",
   "execution_count": null,
   "id": "8e19eb88",
   "metadata": {},
   "outputs": [],
   "source": [
    "dicionario01['key3'][2].upper()   # Com esses comandos eu escolhi apenas o item [2] para que aparecesse em letra maiúscula."
   ]
  },
  {
   "cell_type": "code",
   "execution_count": null,
   "id": "cbe660a7",
   "metadata": {},
   "outputs": [],
   "source": []
  }
 ],
 "metadata": {
  "kernelspec": {
   "display_name": "Python 3",
   "language": "python",
   "name": "python3"
  },
  "language_info": {
   "codemirror_mode": {
    "name": "ipython",
    "version": 3
   },
   "file_extension": ".py",
   "mimetype": "text/x-python",
   "name": "python",
   "nbconvert_exporter": "python",
   "pygments_lexer": "ipython3",
   "version": "3.8.8"
  }
 },
 "nbformat": 4,
 "nbformat_minor": 5
}
