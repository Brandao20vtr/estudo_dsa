{
 "cells": [
  {
   "cell_type": "code",
   "execution_count": null,
   "id": "cfb9c308",
   "metadata": {},
   "outputs": [],
   "source": [
    "# LISTAS - UMA RELAÇÃO DE VALORES"
   ]
  },
  {
   "cell_type": "code",
   "execution_count": null,
   "id": "991f8c5c",
   "metadata": {},
   "outputs": [],
   "source": [
    "listadomercado = [\"ovos, farinha, leite, maças\"]   # Nesse caso toda a lista é uma string."
   ]
  },
  {
   "cell_type": "code",
   "execution_count": null,
   "id": "267c4a34",
   "metadata": {},
   "outputs": [],
   "source": [
    "print(listadomercado)"
   ]
  },
  {
   "cell_type": "code",
   "execution_count": null,
   "id": "2d48dfad",
   "metadata": {},
   "outputs": [],
   "source": [
    "listadomercado2 = [\"ovos\", \"farinha\", \"leite\", \"maças\"]   # Nesse caso cada palavra é uma string porque está separada por (\"\")."
   ]
  },
  {
   "cell_type": "code",
   "execution_count": null,
   "id": "a02247cf",
   "metadata": {},
   "outputs": [],
   "source": [
    "print(listadomercado2)"
   ]
  },
  {
   "cell_type": "code",
   "execution_count": null,
   "id": "e984f49d",
   "metadata": {},
   "outputs": [],
   "source": [
    "listadomercado[0]"
   ]
  },
  {
   "cell_type": "code",
   "execution_count": null,
   "id": "7364afe8",
   "metadata": {},
   "outputs": [],
   "source": [
    "listadomercado2[0]"
   ]
  },
  {
   "cell_type": "code",
   "execution_count": null,
   "id": "14e99d08",
   "metadata": {},
   "outputs": [],
   "source": [
    "lista3 = [12, 100, \"Universidade\"]"
   ]
  },
  {
   "cell_type": "code",
   "execution_count": null,
   "id": "1af394df",
   "metadata": {},
   "outputs": [],
   "source": [
    "print(lista3)"
   ]
  },
  {
   "cell_type": "code",
   "execution_count": null,
   "id": "651d0393",
   "metadata": {},
   "outputs": [],
   "source": [
    "item1 = lista3[0]\n",
    "item2 = lista3[1]\n",
    "item3 = lista3[2]"
   ]
  },
  {
   "cell_type": "code",
   "execution_count": null,
   "id": "88c1012c",
   "metadata": {},
   "outputs": [],
   "source": [
    "print(item1, item2, item3)"
   ]
  },
  {
   "cell_type": "code",
   "execution_count": null,
   "id": "c5831031",
   "metadata": {},
   "outputs": [],
   "source": []
  },
  {
   "cell_type": "code",
   "execution_count": null,
   "id": "4e8adf2e",
   "metadata": {},
   "outputs": [],
   "source": [
    "# ATUALIZANDO UMA LISTA"
   ]
  },
  {
   "cell_type": "code",
   "execution_count": null,
   "id": "87b83c2c",
   "metadata": {},
   "outputs": [],
   "source": [
    "listadomercado2[2]"
   ]
  },
  {
   "cell_type": "code",
   "execution_count": null,
   "id": "efee7911",
   "metadata": {},
   "outputs": [],
   "source": [
    "listadomercado2[2] = \"chocolate\"   # O valor [2]=(leite) foi substituído por (chocolate)."
   ]
  },
  {
   "cell_type": "code",
   "execution_count": null,
   "id": "86039053",
   "metadata": {},
   "outputs": [],
   "source": [
    "listadomercado2"
   ]
  },
  {
   "cell_type": "code",
   "execution_count": null,
   "id": "d3ea184a",
   "metadata": {},
   "outputs": [],
   "source": []
  },
  {
   "cell_type": "code",
   "execution_count": null,
   "id": "11073fa6",
   "metadata": {},
   "outputs": [],
   "source": [
    "# DELETANDO UM ITEM DA LISTA"
   ]
  },
  {
   "cell_type": "code",
   "execution_count": null,
   "id": "91891765",
   "metadata": {},
   "outputs": [],
   "source": [
    "del listadomercado2[3]"
   ]
  },
  {
   "cell_type": "code",
   "execution_count": null,
   "id": "d7f91234",
   "metadata": {},
   "outputs": [],
   "source": [
    "listadomercado2"
   ]
  },
  {
   "cell_type": "code",
   "execution_count": null,
   "id": "721ee53c",
   "metadata": {},
   "outputs": [],
   "source": []
  },
  {
   "cell_type": "code",
   "execution_count": null,
   "id": "50669e59",
   "metadata": {},
   "outputs": [],
   "source": [
    "# LISTA ANINHADAS"
   ]
  },
  {
   "cell_type": "code",
   "execution_count": null,
   "id": "63704642",
   "metadata": {},
   "outputs": [],
   "source": [
    "listas = [[1,2,3],[10,15,14],[10.1,8.7,2.3]]"
   ]
  },
  {
   "cell_type": "code",
   "execution_count": null,
   "id": "cc3f2007",
   "metadata": {},
   "outputs": [],
   "source": [
    "listas"
   ]
  },
  {
   "cell_type": "code",
   "execution_count": null,
   "id": "3f2f377c",
   "metadata": {},
   "outputs": [],
   "source": [
    "a = listas[0]   # Comando usado para colocar o primeiro elemento da lista na variável (a)."
   ]
  },
  {
   "cell_type": "code",
   "execution_count": null,
   "id": "27dddb88",
   "metadata": {},
   "outputs": [],
   "source": [
    "a   # Depois de guardado o valor na variável, ele retorna o primeiro valor da lista ([1,2,3])."
   ]
  },
  {
   "cell_type": "code",
   "execution_count": null,
   "id": "ccb62c27",
   "metadata": {},
   "outputs": [],
   "source": [
    "b = a[0]   # Nisso eu reduzo ainda mais os dados."
   ]
  },
  {
   "cell_type": "code",
   "execution_count": null,
   "id": "d295fd0c",
   "metadata": {},
   "outputs": [],
   "source": [
    "b   # Seleciono apenas o primeiro item da primeira lista (a)."
   ]
  },
  {
   "cell_type": "code",
   "execution_count": null,
   "id": "8a493084",
   "metadata": {},
   "outputs": [],
   "source": []
  },
  {
   "cell_type": "code",
   "execution_count": null,
   "id": "789918a6",
   "metadata": {},
   "outputs": [],
   "source": [
    "# CONCATENANDO LISTAS"
   ]
  },
  {
   "cell_type": "code",
   "execution_count": null,
   "id": "01b53c11",
   "metadata": {},
   "outputs": [],
   "source": [
    "lista01 = [1,2,3,4,5]"
   ]
  },
  {
   "cell_type": "code",
   "execution_count": null,
   "id": "22fe711c",
   "metadata": {},
   "outputs": [],
   "source": [
    "lista01"
   ]
  },
  {
   "cell_type": "code",
   "execution_count": null,
   "id": "a9984564",
   "metadata": {},
   "outputs": [],
   "source": [
    "lista02 = [6,7,8,9,10]"
   ]
  },
  {
   "cell_type": "code",
   "execution_count": null,
   "id": "e007dccf",
   "metadata": {},
   "outputs": [],
   "source": [
    "lista02"
   ]
  },
  {
   "cell_type": "code",
   "execution_count": null,
   "id": "db38cf9e",
   "metadata": {},
   "outputs": [],
   "source": [
    "listafinal = lista01 + lista02"
   ]
  },
  {
   "cell_type": "code",
   "execution_count": null,
   "id": "77f83129",
   "metadata": {},
   "outputs": [],
   "source": [
    "listafinal"
   ]
  },
  {
   "cell_type": "code",
   "execution_count": null,
   "id": "1f62b80f",
   "metadata": {},
   "outputs": [],
   "source": [
    "listafinal.append(11)   # Usado para adicionar mais um item na lista."
   ]
  },
  {
   "cell_type": "code",
   "execution_count": null,
   "id": "cad3079a",
   "metadata": {},
   "outputs": [],
   "source": [
    "listafinal"
   ]
  },
  {
   "cell_type": "code",
   "execution_count": null,
   "id": "ded1cb5a",
   "metadata": {},
   "outputs": [],
   "source": [
    "listafinal.reverse()   # Usado para inverter a ordem da lista."
   ]
  },
  {
   "cell_type": "code",
   "execution_count": null,
   "id": "6bf6a2dd",
   "metadata": {},
   "outputs": [],
   "source": [
    "listafinal"
   ]
  },
  {
   "cell_type": "code",
   "execution_count": null,
   "id": "a74f9922",
   "metadata": {},
   "outputs": [],
   "source": [
    "listafinal.remove(5)   # Usado para remover um item da lista."
   ]
  },
  {
   "cell_type": "code",
   "execution_count": null,
   "id": "d0c0def0",
   "metadata": {},
   "outputs": [],
   "source": [
    "listafinal"
   ]
  },
  {
   "cell_type": "code",
   "execution_count": null,
   "id": "115c4d57",
   "metadata": {},
   "outputs": [],
   "source": []
  }
 ],
 "metadata": {
  "kernelspec": {
   "display_name": "Python 3",
   "language": "python",
   "name": "python3"
  },
  "language_info": {
   "codemirror_mode": {
    "name": "ipython",
    "version": 3
   },
   "file_extension": ".py",
   "mimetype": "text/x-python",
   "name": "python",
   "nbconvert_exporter": "python",
   "pygments_lexer": "ipython3",
   "version": "3.8.8"
  }
 },
 "nbformat": 4,
 "nbformat_minor": 5
}
