{
 "cells": [
  {
   "cell_type": "code",
   "execution_count": null,
   "id": "04910f25",
   "metadata": {},
   "outputs": [],
   "source": [
    "# IF, ELSE, ELIF COM PYTHON"
   ]
  },
  {
   "cell_type": "code",
   "execution_count": null,
   "id": "9f88743d",
   "metadata": {},
   "outputs": [],
   "source": [
    "# Condicional If\n",
    "\n",
    "if 5 > 2:   # se (5) for maior que (2), execute esta mensagem.\n",
    "    print('Eu sou o João.')"
   ]
  },
  {
   "cell_type": "code",
   "execution_count": null,
   "id": "5dcabaff",
   "metadata": {},
   "outputs": [],
   "source": [
    "if 5 < 2:\n",
    "    print('Eu sou o João.')\n",
    "else:\n",
    "        print('Eu não sou o João.')"
   ]
  },
  {
   "cell_type": "code",
   "execution_count": null,
   "id": "fe87e952",
   "metadata": {},
   "outputs": [],
   "source": [
    "if 5 == 5:   # Para ver a igualdade eu preciso SEMPRE usar (==).\n",
    "    print('Você está certo!')"
   ]
  },
  {
   "cell_type": "code",
   "execution_count": null,
   "id": "e122b9b5",
   "metadata": {},
   "outputs": [],
   "source": []
  },
  {
   "cell_type": "code",
   "execution_count": null,
   "id": "83c033d7",
   "metadata": {},
   "outputs": [],
   "source": [
    "# CONDICIONAIS ANINHADOS"
   ]
  },
  {
   "cell_type": "code",
   "execution_count": null,
   "id": "31a59cf6",
   "metadata": {},
   "outputs": [],
   "source": [
    "idade = 18\n",
    "if idade > 17:\n",
    "    print('Você é jovem.')"
   ]
  },
  {
   "cell_type": "code",
   "execution_count": null,
   "id": "3be6e8f7",
   "metadata": {},
   "outputs": [],
   "source": [
    "Nome = 'João'\n",
    "\n",
    "if idade > 13:\n",
    "    if Nome == 'João':\n",
    "        print('Okay João, você pode entrar.')\n",
    "    else:\n",
    "        print('Desculpe, você não pode entrar.')"
   ]
  },
  {
   "cell_type": "code",
   "execution_count": null,
   "id": "1ef3b502",
   "metadata": {},
   "outputs": [],
   "source": [
    "idade = 13\n",
    "Nome = 'João'\n",
    "\n",
    "if idade >= 13 and Nome == 'João':   # Operador lógino (and) = E.\n",
    "    print('Okay João, você tem autorização para entrar.')"
   ]
  },
  {
   "cell_type": "code",
   "execution_count": null,
   "id": "f77a4aee",
   "metadata": {},
   "outputs": [],
   "source": [
    "idade = 12\n",
    "Nome = 'João'\n",
    "\n",
    "if (idade >= 13) or (Nome == 'João'):   # Operador lógino (or) = OU.\n",
    "    print('Okay João, você tem autorização para entrar.')"
   ]
  },
  {
   "cell_type": "code",
   "execution_count": null,
   "id": "7f187327",
   "metadata": {},
   "outputs": [],
   "source": []
  },
  {
   "cell_type": "code",
   "execution_count": null,
   "id": "20be9fac",
   "metadata": {},
   "outputs": [],
   "source": [
    "###  ELIF  ### - Evitar a escrita de vários IFs aninhados."
   ]
  },
  {
   "cell_type": "code",
   "execution_count": null,
   "id": "90040dbf",
   "metadata": {},
   "outputs": [],
   "source": [
    "dia = 'Terça'\n",
    "\n",
    "if dia == 'Segunda':\n",
    "    print('Hoje fará sol!')\n",
    "else:\n",
    "    print('Hoje vai chover!')"
   ]
  },
  {
   "cell_type": "code",
   "execution_count": null,
   "id": "54c505c6",
   "metadata": {},
   "outputs": [],
   "source": [
    "if dia == 'Segunda':\n",
    "    print('Hoje fará sol!')\n",
    "elif dia == 'Terça':\n",
    "    print('Hoje vai chover!')\n",
    "else:\n",
    "    print('Sem previsão de tempo para o dia selecionado.')"
   ]
  },
  {
   "cell_type": "code",
   "execution_count": null,
   "id": "5c9ae35d",
   "metadata": {},
   "outputs": [],
   "source": []
  },
  {
   "cell_type": "code",
   "execution_count": null,
   "id": "77fc8ea7",
   "metadata": {},
   "outputs": [],
   "source": [
    "# OPERADORES LÓGICOS"
   ]
  },
  {
   "cell_type": "code",
   "execution_count": null,
   "id": "82487e58",
   "metadata": {},
   "outputs": [],
   "source": [
    "idade = 18\n",
    "Nome = 'João'\n",
    "\n",
    "if idade > 17:\n",
    "    print('Você pode dirigir.')"
   ]
  },
  {
   "cell_type": "code",
   "execution_count": null,
   "id": "1a9d06f6",
   "metadata": {},
   "outputs": [],
   "source": [
    "idade = 18\n",
    "\n",
    "if idade > 17 and Nome == 'João':   # O objetivo do operador é verificar se estas duas confições estão corretas.\n",
    "    print('Você está autorizado.')"
   ]
  },
  {
   "cell_type": "code",
   "execution_count": null,
   "id": "17bb2fc7",
   "metadata": {},
   "outputs": [],
   "source": [
    "disciplina = input('Digite o nome da disciplina: ')\n",
    "nota_final = input('Digite sua note final entre (0 e 100): ')\n",
    "\n",
    "if disciplina == 'Geografia' and nota_final >= '70':\n",
    "    print('Você foi aprovado!')\n",
    "else:\n",
    "    print('Você foi reprovado! Precisa estudar mais!')"
   ]
  },
  {
   "cell_type": "code",
   "execution_count": null,
   "id": "7fb8542f",
   "metadata": {},
   "outputs": [],
   "source": [
    "disciplina = input('Digite o nome da disciplina: ')\n",
    "nota_final = input('Digite sua note final entre (0 e 100): ')\n",
    "semestre = input('Digite o seu semestre (1 a 4): ')\n",
    "\n",
    "if disciplina == 'Geografia' and nota_final >= '50' and int(semestre) != 1:\n",
    "    print('Você foi aprovado en %s com média final %r!' %(disciplina, nota_final))\n",
    "else:\n",
    "    print('Você foi reprovado! Precisa estudar mais!')"
   ]
  },
  {
   "cell_type": "code",
   "execution_count": null,
   "id": "0e7ff85b",
   "metadata": {},
   "outputs": [],
   "source": []
  }
 ],
 "metadata": {
  "kernelspec": {
   "display_name": "Python 3",
   "language": "python",
   "name": "python3"
  },
  "language_info": {
   "codemirror_mode": {
    "name": "ipython",
    "version": 3
   },
   "file_extension": ".py",
   "mimetype": "text/x-python",
   "name": "python",
   "nbconvert_exporter": "python",
   "pygments_lexer": "ipython3",
   "version": "3.8.8"
  }
 },
 "nbformat": 4,
 "nbformat_minor": 5
}
