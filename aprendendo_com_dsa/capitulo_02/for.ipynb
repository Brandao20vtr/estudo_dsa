{
 "cells": [
  {
   "cell_type": "code",
   "execution_count": null,
   "id": "75906084",
   "metadata": {},
   "outputs": [],
   "source": [
    "# FOR COM PYTHON"
   ]
  },
  {
   "cell_type": "code",
   "execution_count": null,
   "id": "749531d7",
   "metadata": {},
   "outputs": [],
   "source": [
    "# Criando uma Tupla e imprimindo os valores com For\n",
    "\n",
    "tupla = (2,3,4)\n",
    "\n",
    "for i in tupla:   # (i) é o nome do contador, poder ser qualquer outro nome que execute em python.\n",
    "    print(i)"
   ]
  },
  {
   "cell_type": "code",
   "execution_count": null,
   "id": "62605038",
   "metadata": {},
   "outputs": [],
   "source": [
    "lista = [\"Arroz\", \"Feijão\", \"Carne\"]\n",
    "\n",
    "for n in lista:\n",
    "    print(n)"
   ]
  },
  {
   "cell_type": "code",
   "execution_count": 1,
   "id": "2a777132",
   "metadata": {},
   "outputs": [
    {
     "name": "stdout",
     "output_type": "stream",
     "text": [
      "0\n",
      "1\n",
      "2\n",
      "3\n",
      "4\n"
     ]
    }
   ],
   "source": [
    "# Imprimindo os valores do intervalo de 0 á 5.\n",
    "\n",
    "for contador in range(0,5):   # (range) conta exclusive o 5. Não conta o último. Mas contem 5 elementos.\n",
    "    print(contador)"
   ]
  },
  {
   "cell_type": "code",
   "execution_count": null,
   "id": "5709c857",
   "metadata": {},
   "outputs": [],
   "source": [
    "# Imprimindo os números PARES da lista.\n",
    "\n",
    "checking = [1,2,3,4,5,6,7,8,9,10]\n",
    "\n",
    "for num in checking:\n",
    "    if num % 2 == 0:   # Que sejam divisíveis por 2 e o resultado for 0.\n",
    "        print(num)"
   ]
  },
  {
   "cell_type": "code",
   "execution_count": null,
   "id": "eb41ee52",
   "metadata": {},
   "outputs": [],
   "source": []
  },
  {
   "cell_type": "code",
   "execution_count": null,
   "id": "1703cd2e",
   "metadata": {},
   "outputs": [],
   "source": [
    "# LOOPS ANINHADOS - FOR"
   ]
  },
  {
   "cell_type": "code",
   "execution_count": null,
   "id": "a8cf2030",
   "metadata": {},
   "outputs": [],
   "source": [
    "Nome = 'João'\n",
    "\n",
    "for i in range(0,5):\n",
    "    for a in Nome:\n",
    "        print(a)"
   ]
  },
  {
   "cell_type": "code",
   "execution_count": null,
   "id": "09985c64",
   "metadata": {},
   "outputs": [],
   "source": [
    "lista = [32,53,85,10,15,17,19]\n",
    "soma = 0\n",
    "\n",
    "for num in lista:\n",
    "    double_num = num * 2   # Multiplicar o item por 2 e gravar na variável (double_num).\n",
    "    soma += double_num\n",
    "\n",
    "print(soma)"
   ]
  },
  {
   "cell_type": "code",
   "execution_count": null,
   "id": "8d122147",
   "metadata": {},
   "outputs": [],
   "source": [
    "# Contando os itens de uma lista.\n",
    "\n",
    "livro = [10,20,30,40,50]\n",
    "count = 0   # Para contar.\n",
    "\n",
    "for item in livro:\n",
    "    count += 1\n",
    "    \n",
    "print(count)"
   ]
  },
  {
   "cell_type": "code",
   "execution_count": null,
   "id": "47242050",
   "metadata": {},
   "outputs": [],
   "source": [
    "# Contando colunas com Count.\n",
    "\n",
    "A = [[10,20,30],[40,50,60],[70,80,90]]\n",
    "primeira_linha = A[0]   # Lista na posição ZERO.\n",
    "count = 0\n",
    "\n",
    "for coluna in primeira_linha:\n",
    "    count = count + 1\n",
    "    \n",
    "print(count)"
   ]
  },
  {
   "cell_type": "code",
   "execution_count": null,
   "id": "7538262f",
   "metadata": {},
   "outputs": [],
   "source": [
    "# Procurando por um determinado valor na lista.\n",
    "\n",
    "Listagem = [10,20,30,40,50,60,70,80,90,100]\n",
    "\n",
    "for procura in Listagem:\n",
    "    if procura == 90:\n",
    "        print('Número encontrado!')"
   ]
  },
  {
   "cell_type": "code",
   "execution_count": null,
   "id": "5b193a85",
   "metadata": {},
   "outputs": [],
   "source": []
  }
 ],
 "metadata": {
  "kernelspec": {
   "display_name": "Python 3",
   "language": "python",
   "name": "python3"
  },
  "language_info": {
   "codemirror_mode": {
    "name": "ipython",
    "version": 3
   },
   "file_extension": ".py",
   "mimetype": "text/x-python",
   "name": "python",
   "nbconvert_exporter": "python",
   "pygments_lexer": "ipython3",
   "version": "3.8.8"
  }
 },
 "nbformat": 4,
 "nbformat_minor": 5
}
