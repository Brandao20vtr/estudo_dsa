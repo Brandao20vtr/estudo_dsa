{
 "cells": [
  {
   "cell_type": "code",
   "execution_count": null,
   "id": "6c2464e6",
   "metadata": {},
   "outputs": [],
   "source": [
    "# USANDO MÉTODOS EM PYTHON"
   ]
  },
  {
   "cell_type": "code",
   "execution_count": 2,
   "id": "59625ab3",
   "metadata": {},
   "outputs": [],
   "source": [
    "# Criando uma lista. SEMPRE COM []\n",
    "\n",
    "lista = [100,-2,12,65,0]   # lista criada."
   ]
  },
  {
   "cell_type": "code",
   "execution_count": null,
   "id": "4cfff384",
   "metadata": {},
   "outputs": [],
   "source": [
    "# 'append' usado para adicionar um objeto na lista.\n",
    "\n",
    "lista.append(10)   # objeto adicionado."
   ]
  },
  {
   "cell_type": "code",
   "execution_count": null,
   "id": "69605ec1",
   "metadata": {},
   "outputs": [],
   "source": [
    "lista   # visualizar lista com objeto adicionado."
   ]
  },
  {
   "cell_type": "code",
   "execution_count": null,
   "id": "906f1b5e",
   "metadata": {},
   "outputs": [],
   "source": [
    "# 'count' conta quandos objetos do mesmo valor aparece na lista.\n",
    "\n",
    "lista.count(10)   # contando quantos objetos (10) possui na lista."
   ]
  },
  {
   "cell_type": "code",
   "execution_count": null,
   "id": "cf293f78",
   "metadata": {},
   "outputs": [],
   "source": [
    "# Função 'help()' ajuda como comando é utilizado.\n",
    "\n",
    "help(lista.count)"
   ]
  },
  {
   "cell_type": "code",
   "execution_count": 3,
   "id": "3df5ebf1",
   "metadata": {},
   "outputs": [
    {
     "data": {
      "text/plain": [
       "['__add__',\n",
       " '__class__',\n",
       " '__contains__',\n",
       " '__delattr__',\n",
       " '__delitem__',\n",
       " '__dir__',\n",
       " '__doc__',\n",
       " '__eq__',\n",
       " '__format__',\n",
       " '__ge__',\n",
       " '__getattribute__',\n",
       " '__getitem__',\n",
       " '__gt__',\n",
       " '__hash__',\n",
       " '__iadd__',\n",
       " '__imul__',\n",
       " '__init__',\n",
       " '__init_subclass__',\n",
       " '__iter__',\n",
       " '__le__',\n",
       " '__len__',\n",
       " '__lt__',\n",
       " '__mul__',\n",
       " '__ne__',\n",
       " '__new__',\n",
       " '__reduce__',\n",
       " '__reduce_ex__',\n",
       " '__repr__',\n",
       " '__reversed__',\n",
       " '__rmul__',\n",
       " '__setattr__',\n",
       " '__setitem__',\n",
       " '__sizeof__',\n",
       " '__str__',\n",
       " '__subclasshook__',\n",
       " 'append',\n",
       " 'clear',\n",
       " 'copy',\n",
       " 'count',\n",
       " 'extend',\n",
       " 'index',\n",
       " 'insert',\n",
       " 'pop',\n",
       " 'remove',\n",
       " 'reverse',\n",
       " 'sort']"
      ]
     },
     "execution_count": 3,
     "metadata": {},
     "output_type": "execute_result"
    }
   ],
   "source": [
    "# Função 'dir()' mostra todos os MÉTODOS e ATRIBUTOS que podem ser usados na lista.\n",
    "\n",
    "dir(lista)"
   ]
  },
  {
   "cell_type": "code",
   "execution_count": null,
   "id": "9990569c",
   "metadata": {},
   "outputs": [],
   "source": [
    "a = 'Eu sou o Henrique'"
   ]
  },
  {
   "cell_type": "code",
   "execution_count": null,
   "id": "2b4eb5cd",
   "metadata": {},
   "outputs": [],
   "source": [
    "print(a.split())   # 'split()' irá separar cada palavra sa string."
   ]
  },
  {
   "cell_type": "code",
   "execution_count": null,
   "id": "7b85d5d9",
   "metadata": {},
   "outputs": [],
   "source": []
  }
 ],
 "metadata": {
  "kernelspec": {
   "display_name": "Python 3",
   "language": "python",
   "name": "python3"
  },
  "language_info": {
   "codemirror_mode": {
    "name": "ipython",
    "version": 3
   },
   "file_extension": ".py",
   "mimetype": "text/x-python",
   "name": "python",
   "nbconvert_exporter": "python",
   "pygments_lexer": "ipython3",
   "version": "3.8.8"
  }
 },
 "nbformat": 4,
 "nbformat_minor": 5
}
