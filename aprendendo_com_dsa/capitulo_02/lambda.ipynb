{
 "cells": [
  {
   "cell_type": "markdown",
   "id": "6abdae6c",
   "metadata": {},
   "source": [
    "# EXPRESSÕES LAMBDA EM PYTHON \n",
    "Cria uma função sem precisar defini-lá através de um nome."
   ]
  },
  {
   "cell_type": "code",
   "execution_count": null,
   "id": "ce66ddd2",
   "metadata": {},
   "outputs": [],
   "source": [
    "# Definindo uma função com 3 linhas de código\n",
    "\n",
    "def potencia(num):\n",
    "    result = num**2\n",
    "    return result"
   ]
  },
  {
   "cell_type": "code",
   "execution_count": null,
   "id": "fb0c34cd",
   "metadata": {},
   "outputs": [],
   "source": [
    "potencia(5)"
   ]
  },
  {
   "cell_type": "code",
   "execution_count": null,
   "id": "c54e51c6",
   "metadata": {},
   "outputs": [],
   "source": [
    "# Definindo uma função com 2 linhas de código\n",
    "\n",
    "def potencia(num):\n",
    "    return num**2"
   ]
  },
  {
   "cell_type": "code",
   "execution_count": null,
   "id": "cda9dd29",
   "metadata": {},
   "outputs": [],
   "source": [
    "potencia(5)"
   ]
  },
  {
   "cell_type": "code",
   "execution_count": null,
   "id": "3cbe1fc6",
   "metadata": {},
   "outputs": [],
   "source": [
    "# Definindo uma função com 1 linha de código\n",
    "\n",
    "def potencia(num): return num**2"
   ]
  },
  {
   "cell_type": "code",
   "execution_count": null,
   "id": "6aa0c9a9",
   "metadata": {},
   "outputs": [],
   "source": [
    "potencia(5)"
   ]
  },
  {
   "cell_type": "markdown",
   "id": "eb44bd55",
   "metadata": {},
   "source": [
    "# LAMBDA"
   ]
  },
  {
   "cell_type": "code",
   "execution_count": null,
   "id": "be00500c",
   "metadata": {},
   "outputs": [],
   "source": [
    "# Definindo uma expressão lambda\n",
    "\n",
    "potencia = lambda num: num**2   # Parâmetro de entrada (num:)\n",
    "                                # Parâmetro de saída (num**2) -> RETORNA"
   ]
  },
  {
   "cell_type": "code",
   "execution_count": null,
   "id": "17f9153d",
   "metadata": {},
   "outputs": [],
   "source": [
    "potencia(5)"
   ]
  },
  {
   "cell_type": "code",
   "execution_count": null,
   "id": "3b16de1e",
   "metadata": {},
   "outputs": [],
   "source": [
    "# LEMBRE: Operadores de operação retornam boolean: True or False \n",
    "\n",
    "par = lambda x: x%2==0   # Parâmetro de entrada (x:)\n",
    "                         # Parâmetro de saída (x%2==0) -> RETORNA"
   ]
  },
  {
   "cell_type": "code",
   "execution_count": null,
   "id": "47002af4",
   "metadata": {},
   "outputs": [],
   "source": [
    "par(3)"
   ]
  },
  {
   "cell_type": "code",
   "execution_count": null,
   "id": "a1f714d6",
   "metadata": {},
   "outputs": [],
   "source": [
    "par(4)"
   ]
  }
 ],
 "metadata": {
  "kernelspec": {
   "display_name": "Python 3",
   "language": "python",
   "name": "python3"
  },
  "language_info": {
   "codemirror_mode": {
    "name": "ipython",
    "version": 3
   },
   "file_extension": ".py",
   "mimetype": "text/x-python",
   "name": "python",
   "nbconvert_exporter": "python",
   "pygments_lexer": "ipython3",
   "version": "3.8.8"
  }
 },
 "nbformat": 4,
 "nbformat_minor": 5
}
