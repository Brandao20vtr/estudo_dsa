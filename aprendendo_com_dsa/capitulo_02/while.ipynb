{
 "cells": [
  {
   "cell_type": "code",
   "execution_count": null,
   "id": "bb33f2eb",
   "metadata": {},
   "outputs": [],
   "source": [
    "# WHILE EM PYTHON\n",
    "# Executa partir de que uma função seja verdadeira."
   ]
  },
  {
   "cell_type": "code",
   "execution_count": null,
   "id": "5e8e74aa",
   "metadata": {},
   "outputs": [],
   "source": [
    "# Imprimindo valores de 0 a 9.\n",
    "\n",
    "counter = 0\n",
    "\n",
    "# Essa condição deve ser verdadeira para que execute a função.\n",
    "while counter < 10:   # Enquanto (counter) for (< 10) execute.\n",
    "    print(counter)\n",
    "    counter = counter + 1   # Para conter a execução depois de determinar o quanto desejo que execute."
   ]
  },
  {
   "cell_type": "code",
   "execution_count": null,
   "id": "1d0d1d0e",
   "metadata": {},
   "outputs": [],
   "source": [
    "x = 0\n",
    "\n",
    "while x < 10:\n",
    "    print('O valor de x nesta interação é: ', x)\n",
    "    print('--> X ainda é menor que 10, somando 1 a x.\\n')\n",
    "    x += 1\n",
    "    \n",
    "else:\n",
    "    print('\\nLoop concluído.')"
   ]
  },
  {
   "cell_type": "code",
   "execution_count": null,
   "id": "f220c64a",
   "metadata": {},
   "outputs": [],
   "source": []
  },
  {
   "cell_type": "code",
   "execution_count": null,
   "id": "8333509b",
   "metadata": {},
   "outputs": [],
   "source": [
    "# WHILE + FOR"
   ]
  },
  {
   "cell_type": "code",
   "execution_count": null,
   "id": "1abcf4a4",
   "metadata": {},
   "outputs": [],
   "source": [
    "for i in range(2,30):\n",
    "    j = 2\n",
    "    counter = 0\n",
    "    \n",
    "    while j < i:\n",
    "        if i% j == 0:\n",
    "            counter = 1\n",
    "            j = j + 1\n",
    "        else:\n",
    "            j = j +1\n",
    "            \n",
    "    if counter == 0:\n",
    "        print(str(i) + ' é um número primo.')\n",
    "        counter = 0\n",
    "    else:\n",
    "        counter =0"
   ]
  },
  {
   "cell_type": "code",
   "execution_count": null,
   "id": "2419dc32",
   "metadata": {},
   "outputs": [],
   "source": []
  }
 ],
 "metadata": {
  "kernelspec": {
   "display_name": "Python 3",
   "language": "python",
   "name": "python3"
  },
  "language_info": {
   "codemirror_mode": {
    "name": "ipython",
    "version": 3
   },
   "file_extension": ".py",
   "mimetype": "text/x-python",
   "name": "python",
   "nbconvert_exporter": "python",
   "pygments_lexer": "ipython3",
   "version": "3.8.8"
  }
 },
 "nbformat": 4,
 "nbformat_minor": 5
}
