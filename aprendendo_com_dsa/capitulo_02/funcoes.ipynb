{
 "cells": [
  {
   "cell_type": "code",
   "execution_count": null,
   "id": "b4458a98",
   "metadata": {},
   "outputs": [],
   "source": [
    "# FUNÇÕES EM PYTHON"
   ]
  },
  {
   "cell_type": "code",
   "execution_count": null,
   "id": "94e9899c",
   "metadata": {},
   "outputs": [],
   "source": [
    "# Definindo a função.\n",
    "\n",
    "def primeiraFunc():   # criando definição da função.\n",
    "    print('Hello World!')"
   ]
  },
  {
   "cell_type": "code",
   "execution_count": null,
   "id": "34295204",
   "metadata": {},
   "outputs": [],
   "source": [
    "primeiraFunc()   # função foi guardada na memória do PC e ao executar essa função irá imprimir na tela a mensagem."
   ]
  },
  {
   "cell_type": "code",
   "execution_count": null,
   "id": "d40a8bfb",
   "metadata": {},
   "outputs": [],
   "source": [
    "# Definindo a função com Parâmetro. Parâmetro (nome).\n",
    "\n",
    "def primeiraFunc(nome):\n",
    "    print('Hello %s' %(nome))"
   ]
  },
  {
   "cell_type": "code",
   "execution_count": null,
   "id": "529d38b8",
   "metadata": {},
   "outputs": [],
   "source": [
    "primeiraFunc('Aluno.')"
   ]
  },
  {
   "cell_type": "code",
   "execution_count": null,
   "id": "069aee41",
   "metadata": {},
   "outputs": [],
   "source": [
    "def funcLeitura():\n",
    "    for i in range(0,5):\n",
    "        print('Número ' + str(i))"
   ]
  },
  {
   "cell_type": "code",
   "execution_count": null,
   "id": "728a1d00",
   "metadata": {},
   "outputs": [],
   "source": [
    "funcLeitura()"
   ]
  },
  {
   "cell_type": "code",
   "execution_count": null,
   "id": "114cb3d4",
   "metadata": {},
   "outputs": [],
   "source": [
    "def addNum(firstnum, secondnum):\n",
    "    print('Primeiro número: ' + str(firstnum))\n",
    "    print('Segundo número: ' + str(secondnum))\n",
    "    print('Soma: ', firstnum + secondnum)"
   ]
  },
  {
   "cell_type": "code",
   "execution_count": null,
   "id": "d68dee4a",
   "metadata": {},
   "outputs": [],
   "source": [
    "addNum(45,3)"
   ]
  },
  {
   "cell_type": "code",
   "execution_count": null,
   "id": "a69be163",
   "metadata": {},
   "outputs": [],
   "source": []
  },
  {
   "cell_type": "code",
   "execution_count": null,
   "id": "3e913ac0",
   "metadata": {},
   "outputs": [],
   "source": [
    "# VARIÁVEIS LOCAIS E GLOBAIS"
   ]
  },
  {
   "cell_type": "code",
   "execution_count": null,
   "id": "f83ffa6d",
   "metadata": {},
   "outputs": [],
   "source": [
    "# Variável Global\n",
    "\n",
    "var_global = 10\n",
    "\n",
    "def multiply(num1,num2):   # (num1,num2) são parâmetros.\n",
    "    var_global = num1 * num2\n",
    "    print(var_global)"
   ]
  },
  {
   "cell_type": "code",
   "execution_count": null,
   "id": "4f95f2d7",
   "metadata": {},
   "outputs": [],
   "source": [
    "multiply(5,25)   # valores atribuídos para num1 e num2."
   ]
  },
  {
   "cell_type": "code",
   "execution_count": null,
   "id": "5742dd1e",
   "metadata": {},
   "outputs": [],
   "source": [
    "print(var_global)"
   ]
  },
  {
   "cell_type": "code",
   "execution_count": null,
   "id": "76667025",
   "metadata": {},
   "outputs": [],
   "source": [
    "# Variável Local\n",
    "\n",
    "var_global = 10\n",
    "\n",
    "def multiply(num1,num2):\n",
    "    var_local = num1 * num2\n",
    "    print(var_local)"
   ]
  },
  {
   "cell_type": "code",
   "execution_count": null,
   "id": "a43d766e",
   "metadata": {},
   "outputs": [],
   "source": [
    "multiply(5,25)"
   ]
  },
  {
   "cell_type": "code",
   "execution_count": null,
   "id": "76d29634",
   "metadata": {},
   "outputs": [],
   "source": [
    "print(var_local)   # Deu erro porque ela só foi definida dentro da função."
   ]
  },
  {
   "cell_type": "code",
   "execution_count": null,
   "id": "fabb11d9",
   "metadata": {},
   "outputs": [],
   "source": []
  },
  {
   "cell_type": "code",
   "execution_count": null,
   "id": "7037bb58",
   "metadata": {},
   "outputs": [],
   "source": [
    "# FUNÇÕES STR, INT, FLOAT"
   ]
  },
  {
   "cell_type": "code",
   "execution_count": null,
   "id": "24aad0af",
   "metadata": {},
   "outputs": [],
   "source": [
    "# Dá erro porque eu quero comparar um tipo NUMÉRICO com tipo STRING.\n",
    "\n",
    "idade = input('Digite sua didade: ')\n",
    "\n",
    "if idade > 13:\n",
    "    print('Você pode acessar o Facebook.')"
   ]
  },
  {
   "cell_type": "code",
   "execution_count": null,
   "id": "6d55b7da",
   "metadata": {},
   "outputs": [],
   "source": [
    "# Para converter eu posso colocar o 'int()' para que converta para valor NUMÉRICO.\n",
    "\n",
    "idade = int(input('Digite sua idade: '))\n",
    "\n",
    "if idade > 13:\n",
    "    print('Você pode acessar o Facebook.')"
   ]
  },
  {
   "cell_type": "code",
   "execution_count": null,
   "id": "0e8172b8",
   "metadata": {},
   "outputs": [],
   "source": []
  },
  {
   "cell_type": "code",
   "execution_count": null,
   "id": "284a5cd5",
   "metadata": {},
   "outputs": [],
   "source": [
    "# SOMANDO A LISTA COM - SUM"
   ]
  },
  {
   "cell_type": "code",
   "execution_count": null,
   "id": "08578445",
   "metadata": {},
   "outputs": [],
   "source": [
    "lista = [12,65,8,45,11]"
   ]
  },
  {
   "cell_type": "code",
   "execution_count": null,
   "id": "04b3bba1",
   "metadata": {},
   "outputs": [],
   "source": [
    "sum(lista)   # soma todos os valores da lista."
   ]
  },
  {
   "cell_type": "code",
   "execution_count": null,
   "id": "fabc2aec",
   "metadata": {},
   "outputs": [],
   "source": [
    "max(lista)   # Retorna o maior valor da lista."
   ]
  },
  {
   "cell_type": "code",
   "execution_count": null,
   "id": "e2b0a84a",
   "metadata": {},
   "outputs": [],
   "source": [
    "min(lista)   # Retorna o menor valor da lista."
   ]
  },
  {
   "cell_type": "code",
   "execution_count": null,
   "id": "44a44ebf",
   "metadata": {},
   "outputs": [],
   "source": []
  },
  {
   "cell_type": "code",
   "execution_count": null,
   "id": "8a314f73",
   "metadata": {},
   "outputs": [],
   "source": [
    "#CRIADO FUÇÕES USANDO OUTRAS FUNÇÕES"
   ]
  },
  {
   "cell_type": "code",
   "execution_count": null,
   "id": "0bc82ed4",
   "metadata": {},
   "outputs": [],
   "source": [
    "# Importando o Pacote Matemática que possui várias fuções matemáticas.\n",
    "\n",
    "import math   # Vai verificar se um úmero é primo.\n",
    "\n",
    "def numPrimo(num):\n",
    "    if (num % 2) == 0 and num > 2:   # Se o número dividido por 2 for igual a 0 e maior que 2, retorna a mensagem abaixo. Se não retorna para próxima linha.\n",
    "        return 'Esse número não é Primo.'\n",
    "    for i in range(3, int(math.sqrt(num)) + 1,2):   # \n",
    "        if (num % i) == 0:   # Se número dividido por (i) for igual a 0, retorna a mensagem abaixo.\n",
    "            return 'Esse número não é Primo.'\n",
    "    return 'Esse número é Primo.'"
   ]
  },
  {
   "cell_type": "code",
   "execution_count": null,
   "id": "5f089d98",
   "metadata": {},
   "outputs": [],
   "source": [
    "numPrimo(541)"
   ]
  },
  {
   "cell_type": "code",
   "execution_count": null,
   "id": "71c67fc5",
   "metadata": {},
   "outputs": [],
   "source": []
  },
  {
   "cell_type": "code",
   "execution_count": null,
   "id": "9258e46b",
   "metadata": {},
   "outputs": [],
   "source": [
    "# FAZENDO SPLITDOS DADOS"
   ]
  },
  {
   "cell_type": "code",
   "execution_count": null,
   "id": "3aa9c962",
   "metadata": {},
   "outputs": [],
   "source": [
    "def split_string(text):\n",
    "    return text.split(' ')"
   ]
  },
  {
   "cell_type": "code",
   "execution_count": null,
   "id": "d8dd85eb",
   "metadata": {},
   "outputs": [],
   "source": [
    "texto = 'Essa função será bastante útil para separar grandes volumes de dados.'"
   ]
  },
  {
   "cell_type": "code",
   "execution_count": null,
   "id": "b3048427",
   "metadata": {},
   "outputs": [],
   "source": [
    "print(split_string(texto))"
   ]
  },
  {
   "cell_type": "code",
   "execution_count": null,
   "id": "f5215ad1",
   "metadata": {},
   "outputs": [],
   "source": []
  }
 ],
 "metadata": {
  "kernelspec": {
   "display_name": "Python 3",
   "language": "python",
   "name": "python3"
  },
  "language_info": {
   "codemirror_mode": {
    "name": "ipython",
    "version": 3
   },
   "file_extension": ".py",
   "mimetype": "text/x-python",
   "name": "python",
   "nbconvert_exporter": "python",
   "pygments_lexer": "ipython3",
   "version": "3.8.8"
  }
 },
 "nbformat": 4,
 "nbformat_minor": 5
}
