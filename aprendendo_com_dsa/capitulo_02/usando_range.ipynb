{
 "cells": [
  {
   "cell_type": "code",
   "execution_count": null,
   "id": "1009a4cd",
   "metadata": {},
   "outputs": [],
   "source": [
    "# RANGE - PYTHON"
   ]
  },
  {
   "cell_type": "code",
   "execution_count": null,
   "id": "c1f34931",
   "metadata": {},
   "outputs": [],
   "source": [
    "for i in range(50,101,2):   # Vai contar os valores de50 a 101 contando de 2 em 2. De 50 ao 100.\n",
    "    print(i)"
   ]
  },
  {
   "cell_type": "code",
   "execution_count": null,
   "id": "bbd0b7a4",
   "metadata": {},
   "outputs": [],
   "source": [
    "for i in range(3,6):\n",
    "    print(i)"
   ]
  },
  {
   "cell_type": "code",
   "execution_count": null,
   "id": "ad438004",
   "metadata": {},
   "outputs": [],
   "source": [
    "for i in range(0,-20,-2):\n",
    "    print(i)"
   ]
  },
  {
   "cell_type": "code",
   "execution_count": null,
   "id": "f0ba6d0a",
   "metadata": {},
   "outputs": [],
   "source": [
    "lista = ['Morango', 'Banana', 'Abacaxi', 'Uva']\n",
    "lista_tamanho = len(lista)   # Para verificar o tamanho da lista.\n",
    "\n",
    "for i in range(0, lista_tamanho):\n",
    "    print(lista[i])"
   ]
  },
  {
   "cell_type": "code",
   "execution_count": null,
   "id": "4e57e4e7",
   "metadata": {},
   "outputs": [],
   "source": [
    "type(range(0,3))"
   ]
  },
  {
   "cell_type": "code",
   "execution_count": null,
   "id": "afeb55c1",
   "metadata": {},
   "outputs": [],
   "source": []
  }
 ],
 "metadata": {
  "kernelspec": {
   "display_name": "Python 3",
   "language": "python",
   "name": "python3"
  },
  "language_info": {
   "codemirror_mode": {
    "name": "ipython",
    "version": 3
   },
   "file_extension": ".py",
   "mimetype": "text/x-python",
   "name": "python",
   "nbconvert_exporter": "python",
   "pygments_lexer": "ipython3",
   "version": "3.8.8"
  }
 },
 "nbformat": 4,
 "nbformat_minor": 5
}
